{
 "cells": [
  {
   "cell_type": "code",
   "execution_count": 45,
   "metadata": {},
   "outputs": [],
   "source": [
    "import pandas as pd\n",
    "import numpy as np\n",
    "from sklearn.impute import SimpleImputer\n",
    "import evalml\n",
    "import woodwork as ww\n",
    "from sklearn.model_selection import train_test_split\n",
    "from sklearn.metrics import accuracy_score\n",
    "from evalml.model_understanding.graphs import confusion_matrix\n",
    "from evalml.model_understanding.graphs import graph_confusion_matrix\n",
    "from featuretools.selection import remove_low_information_features, remove_highly_null_features, remove_single_value_features, remove_highly_correlated_features"
   ]
  },
  {
   "cell_type": "code",
   "execution_count": 46,
   "metadata": {
    "scrolled": true
   },
   "outputs": [
    {
     "data": {
      "text/html": [
       "<div>\n",
       "<style scoped>\n",
       "    .dataframe tbody tr th:only-of-type {\n",
       "        vertical-align: middle;\n",
       "    }\n",
       "\n",
       "    .dataframe tbody tr th {\n",
       "        vertical-align: top;\n",
       "    }\n",
       "\n",
       "    .dataframe thead th {\n",
       "        text-align: right;\n",
       "    }\n",
       "</style>\n",
       "<table border=\"1\" class=\"dataframe\">\n",
       "  <thead>\n",
       "    <tr style=\"text-align: right;\">\n",
       "      <th></th>\n",
       "      <th>DATE</th>\n",
       "      <th>STATUS</th>\n",
       "      <th>QLANG</th>\n",
       "      <th>DEM_GENDER</th>\n",
       "      <th>DEM_AGE</th>\n",
       "      <th>DEM_POSTAL</th>\n",
       "      <th>DEM_REGION</th>\n",
       "      <th>DEM_INCOME</th>\n",
       "      <th>DEM_HOME</th>\n",
       "      <th>DEM_GENHEALTH</th>\n",
       "      <th>...</th>\n",
       "      <th>ILLXCAN_YR</th>\n",
       "      <th>ILLXCAN_NTY</th>\n",
       "      <th>ILLXCAN_MNTH</th>\n",
       "      <th>ILLXCAN_WK</th>\n",
       "      <th>ILL_USE</th>\n",
       "      <th>ILL_YR</th>\n",
       "      <th>ILL_NTY</th>\n",
       "      <th>ILL_MNTH</th>\n",
       "      <th>ILL_WK</th>\n",
       "      <th>WT</th>\n",
       "    </tr>\n",
       "  </thead>\n",
       "  <tbody>\n",
       "    <tr>\n",
       "      <th>0</th>\n",
       "      <td>2019-03-27 14:16:02</td>\n",
       "      <td>3</td>\n",
       "      <td>1</td>\n",
       "      <td>2</td>\n",
       "      <td>51</td>\n",
       "      <td>782</td>\n",
       "      <td>3</td>\n",
       "      <td>4</td>\n",
       "      <td>3</td>\n",
       "      <td>2</td>\n",
       "      <td>...</td>\n",
       "      <td>0</td>\n",
       "      <td>0</td>\n",
       "      <td>0</td>\n",
       "      <td>0</td>\n",
       "      <td>1</td>\n",
       "      <td>1</td>\n",
       "      <td>1</td>\n",
       "      <td>1</td>\n",
       "      <td>0</td>\n",
       "      <td>7074.136133</td>\n",
       "    </tr>\n",
       "    <tr>\n",
       "      <th>1</th>\n",
       "      <td>2019-03-24 12:42:54</td>\n",
       "      <td>3</td>\n",
       "      <td>1</td>\n",
       "      <td>2</td>\n",
       "      <td>67</td>\n",
       "      <td>604</td>\n",
       "      <td>2</td>\n",
       "      <td>1</td>\n",
       "      <td>1</td>\n",
       "      <td>2</td>\n",
       "      <td>...</td>\n",
       "      <td>0</td>\n",
       "      <td>0</td>\n",
       "      <td>0</td>\n",
       "      <td>0</td>\n",
       "      <td>0</td>\n",
       "      <td>0</td>\n",
       "      <td>0</td>\n",
       "      <td>0</td>\n",
       "      <td>0</td>\n",
       "      <td>4069.460791</td>\n",
       "    </tr>\n",
       "    <tr>\n",
       "      <th>2</th>\n",
       "      <td>2019-03-21 08:56:26</td>\n",
       "      <td>3</td>\n",
       "      <td>1</td>\n",
       "      <td>2</td>\n",
       "      <td>71</td>\n",
       "      <td>339</td>\n",
       "      <td>3</td>\n",
       "      <td>4</td>\n",
       "      <td>2</td>\n",
       "      <td>4</td>\n",
       "      <td>...</td>\n",
       "      <td>0</td>\n",
       "      <td>0</td>\n",
       "      <td>0</td>\n",
       "      <td>0</td>\n",
       "      <td>0</td>\n",
       "      <td>0</td>\n",
       "      <td>0</td>\n",
       "      <td>0</td>\n",
       "      <td>0</td>\n",
       "      <td>7554.618118</td>\n",
       "    </tr>\n",
       "    <tr>\n",
       "      <th>3</th>\n",
       "      <td>2019-03-24 14:38:49</td>\n",
       "      <td>3</td>\n",
       "      <td>1</td>\n",
       "      <td>2</td>\n",
       "      <td>68</td>\n",
       "      <td>801</td>\n",
       "      <td>4</td>\n",
       "      <td>2</td>\n",
       "      <td>1</td>\n",
       "      <td>4</td>\n",
       "      <td>...</td>\n",
       "      <td>0</td>\n",
       "      <td>0</td>\n",
       "      <td>0</td>\n",
       "      <td>0</td>\n",
       "      <td>0</td>\n",
       "      <td>0</td>\n",
       "      <td>0</td>\n",
       "      <td>0</td>\n",
       "      <td>0</td>\n",
       "      <td>4178.061514</td>\n",
       "    </tr>\n",
       "    <tr>\n",
       "      <th>4</th>\n",
       "      <td>2019-03-24 12:26:53</td>\n",
       "      <td>3</td>\n",
       "      <td>1</td>\n",
       "      <td>2</td>\n",
       "      <td>69</td>\n",
       "      <td>612</td>\n",
       "      <td>2</td>\n",
       "      <td>2</td>\n",
       "      <td>2</td>\n",
       "      <td>4</td>\n",
       "      <td>...</td>\n",
       "      <td>0</td>\n",
       "      <td>0</td>\n",
       "      <td>0</td>\n",
       "      <td>0</td>\n",
       "      <td>0</td>\n",
       "      <td>0</td>\n",
       "      <td>0</td>\n",
       "      <td>0</td>\n",
       "      <td>0</td>\n",
       "      <td>7033.819350</td>\n",
       "    </tr>\n",
       "  </tbody>\n",
       "</table>\n",
       "<p>5 rows × 523 columns</p>\n",
       "</div>"
      ],
      "text/plain": [
       "                  DATE  STATUS  QLANG  DEM_GENDER  DEM_AGE  DEM_POSTAL  \\\n",
       "0  2019-03-27 14:16:02       3      1           2       51         782   \n",
       "1  2019-03-24 12:42:54       3      1           2       67         604   \n",
       "2  2019-03-21 08:56:26       3      1           2       71         339   \n",
       "3  2019-03-24 14:38:49       3      1           2       68         801   \n",
       "4  2019-03-24 12:26:53       3      1           2       69         612   \n",
       "\n",
       "   DEM_REGION  DEM_INCOME  DEM_HOME  DEM_GENHEALTH  ...  ILLXCAN_YR  \\\n",
       "0           3           4         3              2  ...           0   \n",
       "1           2           1         1              2  ...           0   \n",
       "2           3           4         2              4  ...           0   \n",
       "3           4           2         1              4  ...           0   \n",
       "4           2           2         2              4  ...           0   \n",
       "\n",
       "   ILLXCAN_NTY  ILLXCAN_MNTH  ILLXCAN_WK  ILL_USE  ILL_YR  ILL_NTY  ILL_MNTH  \\\n",
       "0            0             0           0        1       1        1         1   \n",
       "1            0             0           0        0       0        0         0   \n",
       "2            0             0           0        0       0        0         0   \n",
       "3            0             0           0        0       0        0         0   \n",
       "4            0             0           0        0       0        0         0   \n",
       "\n",
       "   ILL_WK           WT  \n",
       "0       0  7074.136133  \n",
       "1       0  4069.460791  \n",
       "2       0  7554.618118  \n",
       "3       0  4178.061514  \n",
       "4       0  7033.819350  \n",
       "\n",
       "[5 rows x 523 columns]"
      ]
     },
     "execution_count": 46,
     "metadata": {},
     "output_type": "execute_result"
    }
   ],
   "source": [
    "df = pd.read_csv('us.csv')\n",
    "df.head()"
   ]
  },
  {
   "cell_type": "code",
   "execution_count": 47,
   "metadata": {},
   "outputs": [
    {
     "name": "stdout",
     "output_type": "stream",
     "text": [
      "Original dataset has 29873 entries and 523 features\n"
     ]
    }
   ],
   "source": [
    "print(\"Original dataset has {} entries and {} features\".format(*df.shape))"
   ]
  },
  {
   "cell_type": "code",
   "execution_count": 48,
   "metadata": {},
   "outputs": [
    {
     "data": {
      "text/html": [
       "<div>\n",
       "<style scoped>\n",
       "    .dataframe tbody tr th:only-of-type {\n",
       "        vertical-align: middle;\n",
       "    }\n",
       "\n",
       "    .dataframe tbody tr th {\n",
       "        vertical-align: top;\n",
       "    }\n",
       "\n",
       "    .dataframe thead th {\n",
       "        text-align: right;\n",
       "    }\n",
       "</style>\n",
       "<table border=\"1\" class=\"dataframe\">\n",
       "  <thead>\n",
       "    <tr style=\"text-align: right;\">\n",
       "      <th></th>\n",
       "      <th>percent_missing</th>\n",
       "    </tr>\n",
       "  </thead>\n",
       "  <tbody>\n",
       "    <tr>\n",
       "      <th>DATE</th>\n",
       "      <td>0.0</td>\n",
       "    </tr>\n",
       "    <tr>\n",
       "      <th>STATUS</th>\n",
       "      <td>0.0</td>\n",
       "    </tr>\n",
       "    <tr>\n",
       "      <th>QLANG</th>\n",
       "      <td>0.0</td>\n",
       "    </tr>\n",
       "    <tr>\n",
       "      <th>DEM_GENDER</th>\n",
       "      <td>0.0</td>\n",
       "    </tr>\n",
       "    <tr>\n",
       "      <th>DEM_AGE</th>\n",
       "      <td>0.0</td>\n",
       "    </tr>\n",
       "    <tr>\n",
       "      <th>...</th>\n",
       "      <td>...</td>\n",
       "    </tr>\n",
       "    <tr>\n",
       "      <th>ILL_YR</th>\n",
       "      <td>0.0</td>\n",
       "    </tr>\n",
       "    <tr>\n",
       "      <th>ILL_NTY</th>\n",
       "      <td>0.0</td>\n",
       "    </tr>\n",
       "    <tr>\n",
       "      <th>ILL_MNTH</th>\n",
       "      <td>0.0</td>\n",
       "    </tr>\n",
       "    <tr>\n",
       "      <th>ILL_WK</th>\n",
       "      <td>0.0</td>\n",
       "    </tr>\n",
       "    <tr>\n",
       "      <th>WT</th>\n",
       "      <td>0.0</td>\n",
       "    </tr>\n",
       "  </tbody>\n",
       "</table>\n",
       "<p>523 rows × 1 columns</p>\n",
       "</div>"
      ],
      "text/plain": [
       "            percent_missing\n",
       "DATE                    0.0\n",
       "STATUS                  0.0\n",
       "QLANG                   0.0\n",
       "DEM_GENDER              0.0\n",
       "DEM_AGE                 0.0\n",
       "...                     ...\n",
       "ILL_YR                  0.0\n",
       "ILL_NTY                 0.0\n",
       "ILL_MNTH                0.0\n",
       "ILL_WK                  0.0\n",
       "WT                      0.0\n",
       "\n",
       "[523 rows x 1 columns]"
      ]
     },
     "execution_count": 48,
     "metadata": {},
     "output_type": "execute_result"
    }
   ],
   "source": [
    "percent_missing = df.isnull().sum() * 100 / len(df)\n",
    "missing_value_df = pd.DataFrame({'percent_missing': percent_missing})\n",
    "missing_value_df"
   ]
  },
  {
   "cell_type": "code",
   "execution_count": 49,
   "metadata": {},
   "outputs": [],
   "source": [
    "imputer = SimpleImputer(missing_values = np.NaN, strategy = 'constant')\n",
    "\n",
    "for col in df.columns:\n",
    "    df[col] = imputer.fit_transform(df[col].values.reshape(-1, 1))"
   ]
  },
  {
   "cell_type": "code",
   "execution_count": 50,
   "metadata": {},
   "outputs": [
    {
     "data": {
      "text/plain": [
       "0.9752619422220734"
      ]
     },
     "execution_count": 50,
     "metadata": {},
     "output_type": "execute_result"
    }
   ],
   "source": [
    "name = 'DAST_2'\n",
    "\n",
    "len(df[df[name] == 0]) / len(df)"
   ]
  },
  {
   "cell_type": "code",
   "execution_count": 51,
   "metadata": {},
   "outputs": [
    {
     "name": "stdout",
     "output_type": "stream",
     "text": [
      "DATE\n",
      "STATUS\n",
      "QLANG\n",
      "DEM_GENDER\n",
      "DEM_AGE\n",
      "DEM_POSTAL\n",
      "DEM_REGION\n",
      "DEM_INCOME\n",
      "DEM_HOME\n",
      "DEM_GENHEALTH\n",
      "DEM_LIMIT\n",
      "TOB_LIFE\n",
      "ORDER_PAINREL\n",
      "ORDER_SED\n",
      "ORDER_STIM\n",
      "ORDER_THC\n",
      "ORDER_PAINREL_API_BHYD\n",
      "ORDER_PAINREL_API_BUP\n",
      "ORDER_PAINREL_API_COD\n",
      "ORDER_PAINREL_API_DIHY\n",
      "ORDER_PAINREL_API_ELU\n",
      "ORDER_PAINREL_API_FENT\n",
      "ORDER_PAINREL_API_GAB\n",
      "ORDER_PAINREL_API_HYD\n",
      "ORDER_PAINREL_API_HYDM\n",
      "ORDER_PAINREL_API_KTM\n",
      "ORDER_PAINREL_API_METH\n",
      "ORDER_PAINREL_API_MORPH\n",
      "ORDER_PAINREL_API_OXY\n",
      "ORDER_PAINREL_API_OXYM\n",
      "ORDER_PAINREL_API_PREG\n",
      "ORDER_PAINREL_API_SUF\n",
      "ORDER_PAINREL_API_TAP\n",
      "ORDER_PAINREL_API_TRAM\n",
      "BHYD_USE\n",
      "BUP_USE\n",
      "COD_USE\n",
      "DIHY_USE\n",
      "ELU_USE\n",
      "FENT_USE\n",
      "GAB_USE\n",
      "HYD_USE\n",
      "HYDM_USE\n",
      "KTM_USE\n",
      "METH_USE\n",
      "MORPH_USE\n",
      "OXY_USE\n",
      "OXYM_USE\n",
      "PREG_USE\n",
      "SUF_USE\n",
      "TAP_USE\n",
      "TRAM_USE\n",
      "ORDER_SED_API_ALP\n",
      "ORDER_SED_API_BAC\n",
      "ORDER_SED_API_CHL\n",
      "ORDER_SED_API_CLOB\n",
      "ORDER_SED_API_CLON\n",
      "ORDER_SED_API_CLOR\n",
      "ORDER_SED_API_DIA\n",
      "ORDER_SED_API_EST\n",
      "ORDER_SED_API_ESZ\n",
      "ORDER_SED_API_FLUR\n",
      "ORDER_SED_API_LORA\n",
      "ORDER_SED_API_MID\n",
      "ORDER_SED_API_OXA\n",
      "ORDER_SED_API_QUA\n",
      "ORDER_SED_API_TEM\n",
      "ORDER_SED_API_TRI\n",
      "ORDER_SED_API_ZAL\n",
      "ORDER_SED_API_ZOL\n",
      "ALP_USE\n",
      "BAC_USE\n",
      "CHL_USE\n",
      "CLOB_USE\n",
      "CLON_USE\n",
      "CLOR_USE\n",
      "DIA_USE\n",
      "EST_USE\n",
      "ESZ_USE\n",
      "FLUR_USE\n",
      "LORA_USE\n",
      "MID_USE\n",
      "OXA_USE\n",
      "QUA_USE\n",
      "TEM_USE\n",
      "TRI_USE\n",
      "ZAL_USE\n",
      "ZOL_USE\n",
      "ORDER_STIM_API_AMPH\n",
      "ORDER_STIM_API_ATOM\n",
      "ORDER_STIM_API_MPHEN\n",
      "ORDER_STIM_API_MOD\n",
      "AMPH_USE\n",
      "ATOM_USE\n",
      "MPHEN_USE\n",
      "MOD_USE\n",
      "ORDER_THC_API_CANN\n",
      "ORDER_THC_API_DRON\n",
      "ORDER_THC_API_NAB\n",
      "CANN_USE\n",
      "DRON_USE\n",
      "NAB_USE\n",
      "BHYD_USEYR\n",
      "BUP_USEYR\n",
      "COD_USEYR\n",
      "DIHY_USEYR\n",
      "ELU_USEYR\n",
      "FENT_USEYR\n",
      "GAB_USEYR\n",
      "HYD_USEYR\n",
      "HYDM_USEYR\n",
      "KTM_USEYR\n",
      "METH_USEYR\n",
      "MORPH_USEYR\n",
      "OXY_USEYR\n",
      "OXYM_USEYR\n",
      "PREG_USEYR\n",
      "SUF_USEYR\n",
      "TAP_USEYR\n",
      "TRAM_USEYR\n",
      "ALP_USEYR\n",
      "BAC_USEYR\n",
      "CHL_USEYR\n",
      "CLOB_USEYR\n",
      "CLON_USEYR\n",
      "CLOR_USEYR\n",
      "DIA_USEYR\n",
      "EST_USEYR\n",
      "ESZ_USEYR\n",
      "FLUR_USEYR\n",
      "LORA_USEYR\n",
      "MID_USEYR\n",
      "OXA_USEYR\n",
      "QUA_USEYR\n",
      "TEM_USEYR\n",
      "TRI_USEYR\n",
      "ZAL_USEYR\n",
      "ZOL_USEYR\n",
      "AMPH_USEYR\n",
      "ATOM_USEYR\n",
      "MPHEN_USEYR\n",
      "MOD_USEYR\n",
      "CANN_USEYR\n",
      "DRON_USEYR\n",
      "NAB_USEYR\n",
      "BHYD_NMUYR\n",
      "BUP_NMUYR\n",
      "COD_NMUYR\n",
      "DIHY_NMUYR\n",
      "ELU_NMUYR\n",
      "FENT_NMUYR\n",
      "GAB_NMUYR\n",
      "HYD_NMUYR\n",
      "HYDM_NMUYR\n",
      "KTM_NMUYR\n",
      "METH_NMUYR\n",
      "MORPH_NMUYR\n",
      "OXY_NMUYR\n",
      "OXYM_NMUYR\n",
      "PREG_NMUYR\n",
      "SUF_NMUYR\n",
      "TAP_NMUYR\n",
      "TRAM_NMUYR\n",
      "ALP_NMUYR\n",
      "BAC_NMUYR\n",
      "CHL_NMUYR\n",
      "CLOB_NMUYR\n",
      "CLON_NMUYR\n",
      "CLOR_NMUYR\n",
      "DIA_NMUYR\n",
      "EST_NMUYR\n",
      "ESZ_NMUYR\n",
      "FLUR_NMUYR\n",
      "LORA_NMUYR\n",
      "MID_NMUYR\n",
      "OXA_NMUYR\n",
      "QUA_NMUYR\n",
      "TEM_NMUYR\n",
      "TRI_NMUYR\n",
      "ZAL_NMUYR\n",
      "ZOL_NMUYR\n",
      "AMPH_NMUYR\n",
      "ATOM_NMUYR\n",
      "MPHEN_NMUYR\n",
      "MOD_NMUYR\n",
      "CANN_NMUYR\n",
      "DRON_NMUYR\n",
      "NAB_NMUYR\n",
      "OTH_RX_DRUG_USE_SPFY\n",
      "OTH_RX_DRUG_USE\n",
      "ACE_USE\n",
      "ASP_USE\n",
      "DEX_USE\n",
      "DIPH_USE\n",
      "IBU_USE\n",
      "LOP_USE\n",
      "NAP_USE\n",
      "OTCOTH_USE\n",
      "ACE_USEYR\n",
      "ASP_USEYR\n",
      "DEX_USEYR\n",
      "DIPH_USEYR\n",
      "IBU_USEYR\n",
      "LOP_USEYR\n",
      "NAP_USEYR\n",
      "OTCOTH_USEYR\n",
      "ACE_NMUYR\n",
      "ASP_NMUYR\n",
      "DEX_NMUYR\n",
      "DIPH_NMUYR\n",
      "IBU_NMUYR\n",
      "LOP_NMUYR\n",
      "NAP_NMUYR\n",
      "OTCOTH_NMUYR\n",
      "CAN_USE\n",
      "CAN_REC\n",
      "CAN_FIRST\n",
      "CAN_FREQ_MNTH\n",
      "CAN_FREQ_WK\n",
      "CAN_RSNYR_PAIN\n",
      "CAN_RSNYR_MED\n",
      "CAN_RSNYR_HIGH\n",
      "CAN_RSNYR_RELX\n",
      "CAN_RSNYR_DOWN\n",
      "CAN_RSNYR_WTDR\n",
      "CAN_RSNYR_HURT\n",
      "CAN_RSNYR_OTH\n",
      "CAN_TYPEYR_REC\n",
      "CAN_TYPEYR_MED\n",
      "CAN_TYPEYR_HOME\n",
      "CAN_TYPEYR_OTH\n",
      "CAN_TYPEYR_UNK\n",
      "ALC_USEYR\n",
      "ALC_USE\n",
      "COKE_USE\n",
      "CRACK_USE\n",
      "MDMA_USE\n",
      "GHB_USE\n",
      "ALKY_USE\n",
      "KRAT_USE\n",
      "SPEED_USE\n",
      "METHAM_USE\n",
      "NPFENT_USE\n",
      "HEROIN_USE\n",
      "KET_USE\n",
      "MEPH_USE\n",
      "LSD_USE\n",
      "MUSH_USE\n",
      "PCP_USE\n",
      "MESC_USE\n",
      "SPICE_USE\n",
      "SAL_USE\n",
      "STER_USE\n",
      "COKE_REC\n",
      "CRACK_REC\n",
      "MDMA_REC\n",
      "GHB_REC\n",
      "ALKY_REC\n",
      "KRAT_REC\n",
      "SPEED_REC\n",
      "METHAM_REC\n",
      "NPFENT_REC\n",
      "HEROIN_REC\n",
      "KET_REC\n",
      "MEPH_REC\n",
      "LSD_REC\n",
      "MUSH_REC\n",
      "PCP_REC\n",
      "MESC_REC\n",
      "SPICE_REC\n",
      "SAL_REC\n",
      "STER_REC\n",
      "COKE_FIRST\n",
      "CRACK_FIRST\n",
      "MDMA_FIRST\n",
      "GHB_FIRST\n",
      "ALKY_FIRST\n",
      "KRAT_FIRST\n",
      "SPEED_FIRST\n",
      "METHAM_FIRST\n",
      "NPFENT_FIRST\n",
      "HEROIN_FIRST\n",
      "KET_FIRST\n",
      "MEPH_FIRST\n",
      "LSD_FIRST\n",
      "MUSH_FIRST\n",
      "PCP_FIRST\n",
      "MESC_FIRST\n",
      "SPICE_FIRST\n",
      "SAL_FIRST\n",
      "STER_FIRST\n",
      "DAST_1\n",
      "DAST_2\n",
      "DAST_3\n",
      "DAST_4\n",
      "DAST_5\n",
      "DAST_6\n",
      "DAST_7\n",
      "DAST_8\n",
      "DAST_9\n",
      "DAST_10\n",
      "TRT_USEYR\n",
      "TRT_USEYR_ALC\n",
      "TRT_USEYR_RX\n",
      "TRT_USEYR_LEGAL\n",
      "TRT_USEYR_ILLEGAL\n",
      "TRT_DEPYR_METH\n",
      "TRT_DEPYR_BUP\n",
      "TRT_DEPYR_HER\n",
      "TRT_DEPYR_OTH\n",
      "TRT_DEPYR_NO\n",
      "PAIN_CHRONICYR\n",
      "PAIN_CHRONICYR_DOC\n",
      "PAIN_CHRONICYR_RX\n",
      "PAIN_ACUTEYR\n",
      "PAIN_ACUTEYR_DOC\n",
      "PAIN_ACUTEYR_RX\n",
      "MENT_ANYANX\n",
      "MENT_ADHD\n",
      "MENT_AUT\n",
      "MENT_BIP\n",
      "MENT_BPD\n",
      "MENT_DEP\n",
      "MENT_EAT\n",
      "MENT_OCD\n",
      "MENT_PPD\n",
      "MENT_PTSD\n",
      "MENT_SCH\n",
      "MENT_OTH\n",
      "MENT_NONE\n",
      "DEM_HISPANIC\n",
      "DEM_RACE_AIAN\n",
      "DEM_RACE_ASIAN\n",
      "DEM_RACE_BLACK\n",
      "DEM_RACE_NHPI\n",
      "DEM_RACE_WHITE\n",
      "DEM_RACE_OTH\n",
      "DEM_MARITAL\n",
      "DEM_PREG\n",
      "DEM_PREG_WK\n",
      "DEM_EDU\n",
      "DEM_STDNT\n",
      "DEM_STDNT_PROGRAM\n",
      "DEM_STDNT_UNDER\n",
      "DEM_VET\n",
      "DEM_VET_SERV\n",
      "DEM_HEALTH\n",
      "DEM_HEALTH_PRIV\n",
      "DEM_HEALTH_PRE\n",
      "DEM_HEALTH_HOS\n",
      "DEM_HEALTH_OUT\n",
      "DEM_HEALTH_HOME\n",
      "DEM_HEALTH_OTH\n",
      "DEM_HEALTH_ROLE\n",
      "DEM_EMPLOY\n",
      "DEM_INSUR\n",
      "DEM_HOSPSTAY\n",
      "ORDER_OTC_API_ACE\n",
      "ORDER_OTC_API_ASP\n",
      "ORDER_OTC_API_DEX\n",
      "ORDER_OTC_API_DIPH\n",
      "ORDER_OTC_API_IBU\n",
      "ORDER_OTC_API_LOP\n",
      "ORDER_OTC_API_NAP\n",
      "ORDER_OTC_API_OTCOTH\n",
      "ORDER_ILLICIT_API_COKE\n",
      "ORDER_ILLICIT_API_CRACK\n",
      "ORDER_ILLICIT_API_MDMA\n",
      "ORDER_ILLICIT_API_GHB\n",
      "ORDER_ILLICIT_API_ALKY\n",
      "ORDER_ILLICIT_API_KRAT\n",
      "ORDER_ILLICIT_API_SPEED\n",
      "ORDER_ILLICIT_API_METHAM\n",
      "ORDER_ILLICIT_API_NPFENT\n",
      "ORDER_ILLICIT_API_HEROIN\n",
      "ORDER_ILLICIT_API_KET\n",
      "ORDER_ILLICIT_API_MEPH\n",
      "ORDER_ILLICIT_API_LSD\n",
      "ORDER_ILLICIT_API_MUSH\n",
      "ORDER_ILLICIT_API_PCP\n",
      "ORDER_ILLICIT_API_MESC\n",
      "ORDER_ILLICIT_API_SPICE\n",
      "ORDER_ILLICIT_API_SAL\n",
      "ORDER_ILLICIT_API_STER\n",
      "QTIME\n",
      "VMOBILEDEVICE\n",
      "START_DATE\n",
      "TIME_DEM1\n",
      "TIME_DEM2\n",
      "TIME_DEM3\n",
      "TIME_DEM4\n",
      "TIME_DEM5\n",
      "TIME_DEM6\n",
      "TIME_DEM7\n",
      "TIME_DEM8\n",
      "TIME_DEM9\n",
      "TIME_PAINREL\n",
      "TIME_SED\n",
      "TIME_STIM\n",
      "TIME_THC\n",
      "DEM_ZIP\n",
      "DEM_STATE\n",
      "ACE_NMU\n",
      "ALP_NMU\n",
      "AMPH_NMU\n",
      "ASP_NMU\n",
      "ATOM_NMU\n",
      "BAC_NMU\n",
      "BHYD_NMU\n",
      "BUP_NMU\n",
      "CANN_NMU\n",
      "CHL_NMU\n",
      "CLOB_NMU\n",
      "CLON_NMU\n",
      "CLOR_NMU\n",
      "COD_NMU\n",
      "DEX_NMU\n",
      "DIA_NMU\n",
      "DIHY_NMU\n",
      "DIPH_NMU\n",
      "DRON_NMU\n",
      "ELU_NMU\n",
      "EST_NMU\n",
      "ESZ_NMU\n",
      "FENT_NMU\n",
      "FLUR_NMU\n",
      "GAB_NMU\n",
      "HYDM_NMU\n",
      "HYD_NMU\n",
      "IBU_NMU\n",
      "KTM_NMU\n",
      "LOP_NMU\n",
      "LORA_NMU\n",
      "METH_NMU\n",
      "MID_NMU\n",
      "MOD_NMU\n",
      "MORPH_NMU\n",
      "MPHEN_NMU\n",
      "NAB_NMU\n",
      "NAP_NMU\n",
      "OTCOTH_NMU\n",
      "OXA_NMU\n",
      "OXYM_NMU\n",
      "OXY_NMU\n",
      "PREG_NMU\n",
      "QUA_NMU\n",
      "SUF_NMU\n",
      "TAP_NMU\n",
      "TEM_NMU\n",
      "TRAM_NMU\n",
      "TRI_NMU\n",
      "ZAL_NMU\n",
      "ZOL_NMU\n",
      "DEM_AGE10\n",
      "DAST_SUM\n",
      "DAST_CAT\n",
      "PAINREL_USE\n",
      "PAINREL_USEYR\n",
      "PAINREL_NMU\n",
      "PAINREL_NMUYR\n",
      "PAINREL_NMUNTY\n",
      "PAINREL_NMUMNTH\n",
      "PAINREL_NMUWK\n",
      "SED_USE\n",
      "SED_USEYR\n",
      "SED_NMU\n",
      "SED_NMUYR\n",
      "SED_NMUNTY\n",
      "SED_NMUMNTH\n",
      "SED_NMUWK\n",
      "STIM_USE\n",
      "STIM_USEYR\n",
      "STIM_NMU\n",
      "STIM_NMUYR\n",
      "STIM_NMUNTY\n",
      "STIM_NMUMNTH\n",
      "STIM_NMUWK\n",
      "THC_USE\n",
      "THC_USEYR\n",
      "THC_NMU\n",
      "THC_NMUYR\n",
      "THC_NMUNTY\n",
      "THC_NMUMNTH\n",
      "THC_NMUWK\n",
      "OP_USE\n",
      "OP_USEYR\n",
      "OP_NMU\n",
      "OP_NMUYR\n",
      "OP_NMUNTY\n",
      "OP_NMUMNTH\n",
      "OP_NMUWK\n",
      "GABA_USE\n",
      "GABA_USEYR\n",
      "GABA_NMU\n",
      "GABA_NMUYR\n",
      "GABA_NMUNTY\n",
      "GABA_NMUMNTH\n",
      "GABA_NMUWK\n",
      "BHYD_NMUNTY\n",
      "BUP_NMUNTY\n",
      "COD_NMUNTY\n",
      "DIHY_NMUNTY\n",
      "FENT_NMUNTY\n",
      "HYD_NMUNTY\n",
      "HYDM_NMUNTY\n",
      "METH_NMUNTY\n",
      "MORPH_NMUNTY\n",
      "OXY_NMUNTY\n",
      "OXYM_NMUNTY\n",
      "SUF_NMUNTY\n",
      "TAP_NMUNTY\n",
      "TRAM_NMUNTY\n",
      "ILLXCAN_USE\n",
      "ILLXCAN_YR\n",
      "ILLXCAN_NTY\n",
      "ILLXCAN_MNTH\n",
      "ILLXCAN_WK\n",
      "ILL_USE\n",
      "ILL_YR\n",
      "ILL_NTY\n",
      "ILL_MNTH\n",
      "ILL_WK\n",
      "WT\n"
     ]
    }
   ],
   "source": [
    "for i in df.columns:\n",
    "    print (i)"
   ]
  },
  {
   "cell_type": "code",
   "execution_count": 52,
   "metadata": {},
   "outputs": [],
   "source": [
    "columns = ['CAN_TYPEYR_MED', 'ALC_USEYR', 'TOB_LIFE']\n",
    "\n",
    "for i in df.columns:\n",
    "    if i.find('DEM_') > -1 or i.find('PAIN_') > -1 or i.find('MENT_') > -1:\n",
    "        columns.append(i)"
   ]
  },
  {
   "cell_type": "code",
   "execution_count": 53,
   "metadata": {},
   "outputs": [],
   "source": [
    "y = df[name]\n",
    "\n",
    "df = df[columns]\n",
    "\n",
    "df = remove_low_information_features(df)\n",
    "\n",
    "df = remove_highly_null_features(df)\n",
    "\n",
    "df = remove_single_value_features(df)\n",
    "\n",
    "df = remove_highly_correlated_features(df)\n",
    "\n",
    "X = df"
   ]
  },
  {
   "cell_type": "code",
   "execution_count": 54,
   "metadata": {},
   "outputs": [
    {
     "name": "stdout",
     "output_type": "stream",
     "text": [
      "Training dataset has 29873 entries and 57 features\n"
     ]
    }
   ],
   "source": [
    "print(\"Training dataset has {} entries and {} features\".format(*X.shape))"
   ]
  },
  {
   "cell_type": "code",
   "execution_count": 55,
   "metadata": {},
   "outputs": [
    {
     "name": "stdout",
     "output_type": "stream",
     "text": [
      "Using default limit of max_batches=1.\n",
      "\n",
      "Generating pipelines to search over...\n"
     ]
    }
   ],
   "source": [
    "problem_type = 'binary'\n",
    "objective =  'auto'\n",
    "\n",
    "X_train, X_test, y_train, y_test = train_test_split(X, y, test_size=0.25, random_state=45)\n",
    "\n",
    "\n",
    "automl = evalml.automl.AutoMLSearch(X_train, y_train, problem_type=problem_type, objective = objective)"
   ]
  },
  {
   "cell_type": "code",
   "execution_count": 56,
   "metadata": {},
   "outputs": [
    {
     "name": "stdout",
     "output_type": "stream",
     "text": [
      "Column 'CAN_TYPEYR_MED' is 95.0% or more correlated with the target\n",
      "Column 'ALC_USEYR' is 95.0% or more correlated with the target\n",
      "Column 'DEM_GENDER' is 95.0% or more correlated with the target\n",
      "Column 'DEM_LIMIT' is 95.0% or more correlated with the target\n",
      "Column 'PAIN_CHRONICYR' is 95.0% or more correlated with the target\n",
      "Column 'PAIN_CHRONICYR_DOC' is 95.0% or more correlated with the target\n",
      "Column 'PAIN_CHRONICYR_RX' is 95.0% or more correlated with the target\n",
      "Column 'PAIN_ACUTEYR' is 95.0% or more correlated with the target\n",
      "Column 'PAIN_ACUTEYR_DOC' is 95.0% or more correlated with the target\n",
      "Column 'PAIN_ACUTEYR_RX' is 95.0% or more correlated with the target\n",
      "Column 'MENT_ANYANX' is 95.0% or more correlated with the target\n",
      "Column 'MENT_ADHD' is 95.0% or more correlated with the target\n",
      "Column 'MENT_AUT' is 95.0% or more correlated with the target\n",
      "Column 'MENT_BIP' is 95.0% or more correlated with the target\n",
      "Column 'MENT_BPD' is 95.0% or more correlated with the target\n",
      "Column 'MENT_DEP' is 95.0% or more correlated with the target\n",
      "Column 'MENT_EAT' is 95.0% or more correlated with the target\n",
      "Column 'MENT_OCD' is 95.0% or more correlated with the target\n",
      "Column 'MENT_PPD' is 95.0% or more correlated with the target\n",
      "Column 'MENT_PTSD' is 95.0% or more correlated with the target\n",
      "Column 'MENT_SCH' is 95.0% or more correlated with the target\n",
      "Column 'MENT_OTH' is 95.0% or more correlated with the target\n",
      "Column 'MENT_NONE' is 95.0% or more correlated with the target\n",
      "Column 'DEM_HISPANIC' is 95.0% or more correlated with the target\n",
      "Column 'DEM_RACE_AIAN' is 95.0% or more correlated with the target\n",
      "Column 'DEM_RACE_ASIAN' is 95.0% or more correlated with the target\n",
      "Column 'DEM_RACE_BLACK' is 95.0% or more correlated with the target\n",
      "Column 'DEM_RACE_NHPI' is 95.0% or more correlated with the target\n",
      "Column 'DEM_RACE_WHITE' is 95.0% or more correlated with the target\n",
      "Column 'DEM_RACE_OTH' is 95.0% or more correlated with the target\n",
      "Column 'DEM_PREG' is 95.0% or more correlated with the target\n",
      "Column 'DEM_PREG_WK' is 95.0% or more correlated with the target\n",
      "Column 'DEM_STDNT' is 95.0% or more correlated with the target\n",
      "Column 'DEM_STDNT_PROGRAM' is 95.0% or more correlated with the target\n",
      "Column 'DEM_STDNT_UNDER' is 95.0% or more correlated with the target\n",
      "Column 'DEM_VET' is 95.0% or more correlated with the target\n",
      "Column 'DEM_HEALTH' is 95.0% or more correlated with the target\n",
      "Column 'DEM_HEALTH_PRIV' is 95.0% or more correlated with the target\n",
      "Column 'DEM_HEALTH_PRE' is 95.0% or more correlated with the target\n",
      "Column 'DEM_HEALTH_HOS' is 95.0% or more correlated with the target\n",
      "Column 'DEM_HEALTH_OUT' is 95.0% or more correlated with the target\n",
      "Column 'DEM_HEALTH_HOME' is 95.0% or more correlated with the target\n",
      "Column 'DEM_HEALTH_OTH' is 95.0% or more correlated with the target\n",
      "Column 'DEM_HEALTH_ROLE' is 95.0% or more correlated with the target\n",
      "Column 'DEM_EMPLOY' is 95.0% or more correlated with the target\n",
      "Column 'DEM_INSUR' is 95.0% or more correlated with the target\n",
      "Column 'DEM_HOSPSTAY' is 95.0% or more correlated with the target\n",
      "The following labels fall below 10% of the target: [1]\n",
      "*****************************\n",
      "* Beginning pipeline search *\n",
      "*****************************\n",
      "\n",
      "Optimizing for Log Loss Binary. \n",
      "Lower score is better.\n",
      "\n",
      "Using SequentialEngine to train and score pipelines.\n",
      "Searching up to 1 batches for a total of 9 pipelines. \n",
      "Allowed model families: lightgbm, catboost, decision_tree, extra_trees, linear_model, random_forest, xgboost\n",
      "\n"
     ]
    },
    {
     "data": {
      "application/vnd.jupyter.widget-view+json": {
       "model_id": "eb091be2bbec48528e6bbf6f16fa1a53",
       "version_major": 2,
       "version_minor": 0
      },
      "text/plain": [
       "FigureWidget({\n",
       "    'data': [{'mode': 'lines+markers',\n",
       "              'name': 'Best Score',\n",
       "              'type'…"
      ]
     },
     "metadata": {},
     "output_type": "display_data"
    },
    {
     "name": "stdout",
     "output_type": "stream",
     "text": [
      "Batch 1: (1/9) Mode Baseline Binary Classification P... Elapsed:00:00\n",
      "\tStarting cross validation\n",
      "\tFinished cross validation - mean Log Loss Binary: 0.817\n",
      "Batch 1: (2/9) Decision Tree Classifier w/ Imputer +... Elapsed:00:00\n",
      "\tStarting cross validation\n",
      "\tFinished cross validation - mean Log Loss Binary: 0.577\n",
      "Batch 1: (3/9) LightGBM Classifier w/ Imputer + One ... Elapsed:00:05\n",
      "\tStarting cross validation\n",
      "\tFinished cross validation - mean Log Loss Binary: 0.194\n",
      "Batch 1: (4/9) Extra Trees Classifier w/ Imputer + O... Elapsed:00:11\n",
      "\tStarting cross validation\n",
      "\tFinished cross validation - mean Log Loss Binary: 0.209\n",
      "Batch 1: (5/9) Elastic Net Classifier w/ Imputer + O... Elapsed:00:17\n",
      "\tStarting cross validation\n",
      "\tFinished cross validation - mean Log Loss Binary: 0.266\n",
      "Batch 1: (6/9) CatBoost Classifier w/ Imputer           Elapsed:00:22\n",
      "\tStarting cross validation\n",
      "\tFinished cross validation - mean Log Loss Binary: 0.480\n",
      "Batch 1: (7/9) XGBoost Classifier w/ Imputer + One H... Elapsed:00:25\n",
      "\tStarting cross validation\n",
      "\tFinished cross validation - mean Log Loss Binary: 0.211\n",
      "Batch 1: (8/9) Random Forest Classifier w/ Imputer +... Elapsed:00:31\n",
      "\tStarting cross validation\n",
      "\tFinished cross validation - mean Log Loss Binary: 0.203\n",
      "Batch 1: (9/9) Logistic Regression Classifier w/ Imp... Elapsed:00:37\n",
      "\tStarting cross validation\n",
      "\tFinished cross validation - mean Log Loss Binary: 0.217\n",
      "\n",
      "Search finished after 00:45            \n",
      "Best pipeline: LightGBM Classifier w/ Imputer + One Hot Encoder\n",
      "Best pipeline Log Loss Binary: 0.194491\n"
     ]
    }
   ],
   "source": [
    "automl.search()"
   ]
  },
  {
   "cell_type": "code",
   "execution_count": 57,
   "metadata": {},
   "outputs": [
    {
     "data": {
      "text/html": [
       "<div>\n",
       "<style scoped>\n",
       "    .dataframe tbody tr th:only-of-type {\n",
       "        vertical-align: middle;\n",
       "    }\n",
       "\n",
       "    .dataframe tbody tr th {\n",
       "        vertical-align: top;\n",
       "    }\n",
       "\n",
       "    .dataframe thead th {\n",
       "        text-align: right;\n",
       "    }\n",
       "</style>\n",
       "<table border=\"1\" class=\"dataframe\">\n",
       "  <thead>\n",
       "    <tr style=\"text-align: right;\">\n",
       "      <th></th>\n",
       "      <th>id</th>\n",
       "      <th>pipeline_name</th>\n",
       "      <th>score</th>\n",
       "      <th>validation_score</th>\n",
       "      <th>percent_better_than_baseline</th>\n",
       "      <th>high_variance_cv</th>\n",
       "      <th>parameters</th>\n",
       "    </tr>\n",
       "  </thead>\n",
       "  <tbody>\n",
       "    <tr>\n",
       "      <th>0</th>\n",
       "      <td>2</td>\n",
       "      <td>LightGBM Classifier w/ Imputer + One Hot Encoder</td>\n",
       "      <td>0.194491</td>\n",
       "      <td>0.201666</td>\n",
       "      <td>76.196420</td>\n",
       "      <td>False</td>\n",
       "      <td>{'Imputer': {'categorical_impute_strategy': 'm...</td>\n",
       "    </tr>\n",
       "    <tr>\n",
       "      <th>1</th>\n",
       "      <td>7</td>\n",
       "      <td>Random Forest Classifier w/ Imputer + One Hot ...</td>\n",
       "      <td>0.202874</td>\n",
       "      <td>0.203201</td>\n",
       "      <td>75.170467</td>\n",
       "      <td>False</td>\n",
       "      <td>{'Imputer': {'categorical_impute_strategy': 'm...</td>\n",
       "    </tr>\n",
       "    <tr>\n",
       "      <th>2</th>\n",
       "      <td>3</td>\n",
       "      <td>Extra Trees Classifier w/ Imputer + One Hot En...</td>\n",
       "      <td>0.209404</td>\n",
       "      <td>0.210402</td>\n",
       "      <td>74.371246</td>\n",
       "      <td>False</td>\n",
       "      <td>{'Imputer': {'categorical_impute_strategy': 'm...</td>\n",
       "    </tr>\n",
       "    <tr>\n",
       "      <th>3</th>\n",
       "      <td>6</td>\n",
       "      <td>XGBoost Classifier w/ Imputer + One Hot Encoder</td>\n",
       "      <td>0.210666</td>\n",
       "      <td>0.216315</td>\n",
       "      <td>74.216777</td>\n",
       "      <td>False</td>\n",
       "      <td>{'Imputer': {'categorical_impute_strategy': 'm...</td>\n",
       "    </tr>\n",
       "    <tr>\n",
       "      <th>4</th>\n",
       "      <td>8</td>\n",
       "      <td>Logistic Regression Classifier w/ Imputer + On...</td>\n",
       "      <td>0.216661</td>\n",
       "      <td>0.226486</td>\n",
       "      <td>73.483072</td>\n",
       "      <td>False</td>\n",
       "      <td>{'Imputer': {'categorical_impute_strategy': 'm...</td>\n",
       "    </tr>\n",
       "    <tr>\n",
       "      <th>5</th>\n",
       "      <td>4</td>\n",
       "      <td>Elastic Net Classifier w/ Imputer + One Hot En...</td>\n",
       "      <td>0.265968</td>\n",
       "      <td>0.256995</td>\n",
       "      <td>67.448440</td>\n",
       "      <td>False</td>\n",
       "      <td>{'Imputer': {'categorical_impute_strategy': 'm...</td>\n",
       "    </tr>\n",
       "    <tr>\n",
       "      <th>6</th>\n",
       "      <td>5</td>\n",
       "      <td>CatBoost Classifier w/ Imputer</td>\n",
       "      <td>0.479682</td>\n",
       "      <td>0.479792</td>\n",
       "      <td>41.292155</td>\n",
       "      <td>False</td>\n",
       "      <td>{'Imputer': {'categorical_impute_strategy': 'm...</td>\n",
       "    </tr>\n",
       "    <tr>\n",
       "      <th>7</th>\n",
       "      <td>1</td>\n",
       "      <td>Decision Tree Classifier w/ Imputer + One Hot ...</td>\n",
       "      <td>0.577495</td>\n",
       "      <td>0.619448</td>\n",
       "      <td>29.320935</td>\n",
       "      <td>False</td>\n",
       "      <td>{'Imputer': {'categorical_impute_strategy': 'm...</td>\n",
       "    </tr>\n",
       "    <tr>\n",
       "      <th>8</th>\n",
       "      <td>0</td>\n",
       "      <td>Mode Baseline Binary Classification Pipeline</td>\n",
       "      <td>0.817066</td>\n",
       "      <td>0.813983</td>\n",
       "      <td>0.000000</td>\n",
       "      <td>False</td>\n",
       "      <td>{'Baseline Classifier': {'strategy': 'mode'}}</td>\n",
       "    </tr>\n",
       "  </tbody>\n",
       "</table>\n",
       "</div>"
      ],
      "text/plain": [
       "   id                                      pipeline_name     score  \\\n",
       "0   2   LightGBM Classifier w/ Imputer + One Hot Encoder  0.194491   \n",
       "1   7  Random Forest Classifier w/ Imputer + One Hot ...  0.202874   \n",
       "2   3  Extra Trees Classifier w/ Imputer + One Hot En...  0.209404   \n",
       "3   6    XGBoost Classifier w/ Imputer + One Hot Encoder  0.210666   \n",
       "4   8  Logistic Regression Classifier w/ Imputer + On...  0.216661   \n",
       "5   4  Elastic Net Classifier w/ Imputer + One Hot En...  0.265968   \n",
       "6   5                     CatBoost Classifier w/ Imputer  0.479682   \n",
       "7   1  Decision Tree Classifier w/ Imputer + One Hot ...  0.577495   \n",
       "8   0       Mode Baseline Binary Classification Pipeline  0.817066   \n",
       "\n",
       "   validation_score  percent_better_than_baseline  high_variance_cv  \\\n",
       "0          0.201666                     76.196420             False   \n",
       "1          0.203201                     75.170467             False   \n",
       "2          0.210402                     74.371246             False   \n",
       "3          0.216315                     74.216777             False   \n",
       "4          0.226486                     73.483072             False   \n",
       "5          0.256995                     67.448440             False   \n",
       "6          0.479792                     41.292155             False   \n",
       "7          0.619448                     29.320935             False   \n",
       "8          0.813983                      0.000000             False   \n",
       "\n",
       "                                          parameters  \n",
       "0  {'Imputer': {'categorical_impute_strategy': 'm...  \n",
       "1  {'Imputer': {'categorical_impute_strategy': 'm...  \n",
       "2  {'Imputer': {'categorical_impute_strategy': 'm...  \n",
       "3  {'Imputer': {'categorical_impute_strategy': 'm...  \n",
       "4  {'Imputer': {'categorical_impute_strategy': 'm...  \n",
       "5  {'Imputer': {'categorical_impute_strategy': 'm...  \n",
       "6  {'Imputer': {'categorical_impute_strategy': 'm...  \n",
       "7  {'Imputer': {'categorical_impute_strategy': 'm...  \n",
       "8      {'Baseline Classifier': {'strategy': 'mode'}}  "
      ]
     },
     "execution_count": 57,
     "metadata": {},
     "output_type": "execute_result"
    }
   ],
   "source": [
    "automl.rankings"
   ]
  },
  {
   "cell_type": "code",
   "execution_count": 58,
   "metadata": {},
   "outputs": [],
   "source": [
    "best_pipeline = automl.best_pipeline\n",
    "#best_pipeline.save('best_pipeline')"
   ]
  },
  {
   "cell_type": "code",
   "execution_count": 59,
   "metadata": {},
   "outputs": [],
   "source": [
    "#best_pipeline = automl.load('best_pipeline')"
   ]
  },
  {
   "cell_type": "code",
   "execution_count": 60,
   "metadata": {},
   "outputs": [
    {
     "data": {
      "image/svg+xml": [
       "<?xml version=\"1.0\" encoding=\"UTF-8\" standalone=\"no\"?>\r\n",
       "<!DOCTYPE svg PUBLIC \"-//W3C//DTD SVG 1.1//EN\"\r\n",
       " \"http://www.w3.org/Graphics/SVG/1.1/DTD/svg11.dtd\">\r\n",
       "<!-- Generated by graphviz version 2.38.0 (20140413.2041)\r\n",
       " -->\r\n",
       "<!-- Title: %3 Pages: 1 -->\r\n",
       "<svg width=\"659pt\" height=\"175pt\"\r\n",
       " viewBox=\"0.00 0.00 659.00 175.00\" xmlns=\"http://www.w3.org/2000/svg\" xmlns:xlink=\"http://www.w3.org/1999/xlink\">\r\n",
       "<g id=\"graph0\" class=\"graph\" transform=\"scale(1 1) rotate(0) translate(4 171)\">\r\n",
       "<title>%3</title>\r\n",
       "<polygon fill=\"white\" stroke=\"none\" points=\"-4,4 -4,-171 655,-171 655,4 -4,4\"/>\r\n",
       "<!-- Imputer -->\r\n",
       "<g id=\"node1\" class=\"node\"><title>Imputer</title>\r\n",
       "<polygon fill=\"none\" stroke=\"black\" points=\"0,-38 0,-129 264,-129 264,-38 0,-38\"/>\r\n",
       "<text text-anchor=\"middle\" x=\"132\" y=\"-113.8\" font-family=\"Times New Roman,serif\" font-size=\"14.00\">Imputer</text>\r\n",
       "<polyline fill=\"none\" stroke=\"black\" points=\"0,-106 264,-106 \"/>\r\n",
       "<text text-anchor=\"start\" x=\"8\" y=\"-90.8\" font-family=\"Times New Roman,serif\" font-size=\"14.00\">categorical_impute_strategy : most_frequent</text>\r\n",
       "<text text-anchor=\"start\" x=\"8\" y=\"-75.8\" font-family=\"Times New Roman,serif\" font-size=\"14.00\">numeric_impute_strategy : mean</text>\r\n",
       "<text text-anchor=\"start\" x=\"8\" y=\"-60.8\" font-family=\"Times New Roman,serif\" font-size=\"14.00\">categorical_fill_value : None</text>\r\n",
       "<text text-anchor=\"start\" x=\"8\" y=\"-45.8\" font-family=\"Times New Roman,serif\" font-size=\"14.00\">numeric_fill_value : None</text>\r\n",
       "</g>\r\n",
       "<!-- One Hot Encoder -->\r\n",
       "<g id=\"node2\" class=\"node\"><title>One Hot Encoder</title>\r\n",
       "<polygon fill=\"none\" stroke=\"black\" points=\"300,-23 300,-144 467,-144 467,-23 300,-23\"/>\r\n",
       "<text text-anchor=\"middle\" x=\"383.5\" y=\"-128.8\" font-family=\"Times New Roman,serif\" font-size=\"14.00\">One Hot Encoder</text>\r\n",
       "<polyline fill=\"none\" stroke=\"black\" points=\"300,-121 467,-121 \"/>\r\n",
       "<text text-anchor=\"start\" x=\"308\" y=\"-105.8\" font-family=\"Times New Roman,serif\" font-size=\"14.00\">top_n : 10</text>\r\n",
       "<text text-anchor=\"start\" x=\"308\" y=\"-90.8\" font-family=\"Times New Roman,serif\" font-size=\"14.00\">features_to_encode : None</text>\r\n",
       "<text text-anchor=\"start\" x=\"308\" y=\"-75.8\" font-family=\"Times New Roman,serif\" font-size=\"14.00\">categories : None</text>\r\n",
       "<text text-anchor=\"start\" x=\"308\" y=\"-60.8\" font-family=\"Times New Roman,serif\" font-size=\"14.00\">drop : None</text>\r\n",
       "<text text-anchor=\"start\" x=\"308\" y=\"-45.8\" font-family=\"Times New Roman,serif\" font-size=\"14.00\">handle_unknown : ignore</text>\r\n",
       "<text text-anchor=\"start\" x=\"308\" y=\"-30.8\" font-family=\"Times New Roman,serif\" font-size=\"14.00\">handle_missing : error</text>\r\n",
       "</g>\r\n",
       "<!-- Imputer&#45;&gt;One Hot Encoder -->\r\n",
       "<g id=\"edge1\" class=\"edge\"><title>Imputer&#45;&gt;One Hot Encoder</title>\r\n",
       "<path fill=\"none\" stroke=\"black\" d=\"M264.011,-83.5C264.011,-83.5 289.957,-83.5 289.957,-83.5\"/>\r\n",
       "<polygon fill=\"black\" stroke=\"black\" points=\"289.957,-87.0001 299.957,-83.5 289.957,-80.0001 289.957,-87.0001\"/>\r\n",
       "</g>\r\n",
       "<!-- LightGBM Classifier -->\r\n",
       "<g id=\"node3\" class=\"node\"><title>LightGBM Classifier</title>\r\n",
       "<polygon fill=\"none\" stroke=\"black\" points=\"503,-0.5 503,-166.5 651,-166.5 651,-0.5 503,-0.5\"/>\r\n",
       "<text text-anchor=\"middle\" x=\"577\" y=\"-151.3\" font-family=\"Times New Roman,serif\" font-size=\"14.00\">LightGBM Classifier</text>\r\n",
       "<polyline fill=\"none\" stroke=\"black\" points=\"503,-143.5 651,-143.5 \"/>\r\n",
       "<text text-anchor=\"start\" x=\"511\" y=\"-128.3\" font-family=\"Times New Roman,serif\" font-size=\"14.00\">boosting_type : gbdt</text>\r\n",
       "<text text-anchor=\"start\" x=\"511\" y=\"-113.3\" font-family=\"Times New Roman,serif\" font-size=\"14.00\">learning_rate : 0.10</text>\r\n",
       "<text text-anchor=\"start\" x=\"511\" y=\"-98.3\" font-family=\"Times New Roman,serif\" font-size=\"14.00\">n_estimators : 100</text>\r\n",
       "<text text-anchor=\"start\" x=\"511\" y=\"-83.3\" font-family=\"Times New Roman,serif\" font-size=\"14.00\">max_depth : 0</text>\r\n",
       "<text text-anchor=\"start\" x=\"511\" y=\"-68.3\" font-family=\"Times New Roman,serif\" font-size=\"14.00\">num_leaves : 31</text>\r\n",
       "<text text-anchor=\"start\" x=\"511\" y=\"-53.3\" font-family=\"Times New Roman,serif\" font-size=\"14.00\">min_child_samples : 20</text>\r\n",
       "<text text-anchor=\"start\" x=\"511\" y=\"-38.3\" font-family=\"Times New Roman,serif\" font-size=\"14.00\">n_jobs : &#45;1</text>\r\n",
       "<text text-anchor=\"start\" x=\"511\" y=\"-23.3\" font-family=\"Times New Roman,serif\" font-size=\"14.00\">bagging_freq : 0</text>\r\n",
       "<text text-anchor=\"start\" x=\"511\" y=\"-8.3\" font-family=\"Times New Roman,serif\" font-size=\"14.00\">bagging_fraction : 0.90</text>\r\n",
       "</g>\r\n",
       "<!-- One Hot Encoder&#45;&gt;LightGBM Classifier -->\r\n",
       "<g id=\"edge2\" class=\"edge\"><title>One Hot Encoder&#45;&gt;LightGBM Classifier</title>\r\n",
       "<path fill=\"none\" stroke=\"black\" d=\"M467.247,-83.5C467.247,-83.5 492.858,-83.5 492.858,-83.5\"/>\r\n",
       "<polygon fill=\"black\" stroke=\"black\" points=\"492.858,-87.0001 502.858,-83.5 492.858,-80.0001 492.858,-87.0001\"/>\r\n",
       "</g>\r\n",
       "</g>\r\n",
       "</svg>\r\n"
      ],
      "text/plain": [
       "<graphviz.dot.Digraph at 0x1f6663ffe20>"
      ]
     },
     "execution_count": 60,
     "metadata": {},
     "output_type": "execute_result"
    }
   ],
   "source": [
    "best_pipeline.graph()"
   ]
  },
  {
   "cell_type": "code",
   "execution_count": 61,
   "metadata": {},
   "outputs": [
    {
     "data": {
      "text/html": [
       "<div>\n",
       "<style scoped>\n",
       "    .dataframe tbody tr th:only-of-type {\n",
       "        vertical-align: middle;\n",
       "    }\n",
       "\n",
       "    .dataframe tbody tr th {\n",
       "        vertical-align: top;\n",
       "    }\n",
       "\n",
       "    .dataframe thead th {\n",
       "        text-align: right;\n",
       "    }\n",
       "</style>\n",
       "<table border=\"1\" class=\"dataframe\">\n",
       "  <thead>\n",
       "    <tr style=\"text-align: right;\">\n",
       "      <th></th>\n",
       "      <th>feature</th>\n",
       "      <th>importance</th>\n",
       "    </tr>\n",
       "  </thead>\n",
       "  <tbody>\n",
       "    <tr>\n",
       "      <th>0</th>\n",
       "      <td>DEM_POSTAL</td>\n",
       "      <td>573</td>\n",
       "    </tr>\n",
       "    <tr>\n",
       "      <th>1</th>\n",
       "      <td>DEM_AGE</td>\n",
       "      <td>475</td>\n",
       "    </tr>\n",
       "    <tr>\n",
       "      <th>2</th>\n",
       "      <td>DEM_HOME</td>\n",
       "      <td>145</td>\n",
       "    </tr>\n",
       "    <tr>\n",
       "      <th>3</th>\n",
       "      <td>DEM_EDU</td>\n",
       "      <td>139</td>\n",
       "    </tr>\n",
       "    <tr>\n",
       "      <th>4</th>\n",
       "      <td>DEM_INCOME</td>\n",
       "      <td>123</td>\n",
       "    </tr>\n",
       "    <tr>\n",
       "      <th>...</th>\n",
       "      <td>...</td>\n",
       "      <td>...</td>\n",
       "    </tr>\n",
       "    <tr>\n",
       "      <th>61</th>\n",
       "      <td>DEM_HEALTH_PRIV</td>\n",
       "      <td>0</td>\n",
       "    </tr>\n",
       "    <tr>\n",
       "      <th>62</th>\n",
       "      <td>DEM_HEALTH_PRE</td>\n",
       "      <td>0</td>\n",
       "    </tr>\n",
       "    <tr>\n",
       "      <th>63</th>\n",
       "      <td>DEM_HEALTH_OUT</td>\n",
       "      <td>0</td>\n",
       "    </tr>\n",
       "    <tr>\n",
       "      <th>64</th>\n",
       "      <td>DEM_HEALTH_OTH</td>\n",
       "      <td>0</td>\n",
       "    </tr>\n",
       "    <tr>\n",
       "      <th>65</th>\n",
       "      <td>DEM_STATE_WA</td>\n",
       "      <td>0</td>\n",
       "    </tr>\n",
       "  </tbody>\n",
       "</table>\n",
       "<p>66 rows × 2 columns</p>\n",
       "</div>"
      ],
      "text/plain": [
       "            feature  importance\n",
       "0        DEM_POSTAL         573\n",
       "1           DEM_AGE         475\n",
       "2          DEM_HOME         145\n",
       "3           DEM_EDU         139\n",
       "4        DEM_INCOME         123\n",
       "..              ...         ...\n",
       "61  DEM_HEALTH_PRIV           0\n",
       "62   DEM_HEALTH_PRE           0\n",
       "63   DEM_HEALTH_OUT           0\n",
       "64   DEM_HEALTH_OTH           0\n",
       "65     DEM_STATE_WA           0\n",
       "\n",
       "[66 rows x 2 columns]"
      ]
     },
     "execution_count": 61,
     "metadata": {},
     "output_type": "execute_result"
    }
   ],
   "source": [
    "best_pipeline.feature_importance"
   ]
  },
  {
   "cell_type": "code",
   "execution_count": 62,
   "metadata": {},
   "outputs": [
    {
     "data": {
      "application/vnd.plotly.v1+json": {
       "config": {
        "plotlyServerURL": "https://plot.ly"
       },
       "data": [
        {
         "orientation": "h",
         "type": "bar",
         "x": [
          0,
          0,
          0,
          0,
          0,
          0,
          1,
          1,
          2,
          2,
          3,
          3,
          3,
          3,
          4,
          4,
          5,
          6,
          6,
          7,
          7,
          7,
          9,
          10,
          10,
          11,
          11,
          11,
          13,
          15,
          16,
          16,
          17,
          17,
          20,
          20,
          20,
          22,
          25,
          25,
          27,
          29,
          30,
          31,
          31,
          39,
          40,
          45,
          48,
          48,
          49,
          51,
          53,
          53,
          53,
          62,
          69,
          93,
          108,
          111,
          123,
          123,
          139,
          145,
          475,
          573
         ],
         "y": [
          "DEM_STATE_WA",
          "DEM_HEALTH_OTH",
          "DEM_HEALTH_OUT",
          "DEM_HEALTH_PRE",
          "DEM_HEALTH_PRIV",
          "DEM_RACE_NHPI",
          "DEM_PREG_WK",
          "DEM_PREG",
          "DEM_STATE_IL",
          "DEM_HEALTH",
          "DEM_STATE_MI",
          "DEM_RACE_ASIAN",
          "MENT_SCH",
          "MENT_PPD",
          "DEM_STDNT",
          "DEM_RACE_OTH",
          "DEM_STDNT_UNDER",
          "DEM_STATE_OH",
          "DEM_STATE_GA",
          "DEM_STATE_CA",
          "DEM_RACE_AIAN",
          "MENT_OCD",
          "DEM_HEALTH_HOME",
          "DEM_STATE_TX",
          "MENT_EAT",
          "DEM_STATE_PA",
          "DEM_STATE_FL",
          "MENT_AUT",
          "MENT_ADHD",
          "MENT_PTSD",
          "DEM_HEALTH_ROLE",
          "DEM_STDNT_PROGRAM",
          "DEM_VET",
          "DEM_RACE_WHITE",
          "DEM_STATE_NY",
          "DEM_HEALTH_HOS",
          "PAIN_CHRONICYR_RX",
          "DEM_RACE_BLACK",
          "DEM_HISPANIC",
          "PAIN_ACUTEYR_DOC",
          "MENT_OTH",
          "PAIN_ACUTEYR_RX",
          "MENT_DEP",
          "MENT_BPD",
          "DEM_REGION",
          "PAIN_CHRONICYR_DOC",
          "MENT_BIP",
          "CAN_TYPEYR_MED",
          "MENT_NONE",
          "PAIN_ACUTEYR",
          "DEM_INSUR",
          "MENT_ANYANX",
          "DEM_HOSPSTAY",
          "PAIN_CHRONICYR",
          "DEM_LIMIT",
          "DEM_EMPLOY",
          "ALC_USEYR",
          "DEM_GENDER",
          "TOB_LIFE",
          "DEM_GENHEALTH",
          "DEM_MARITAL",
          "DEM_INCOME",
          "DEM_EDU",
          "DEM_HOME",
          "DEM_AGE",
          "DEM_POSTAL"
         ]
        }
       ],
       "layout": {
        "height": 800,
        "template": {
         "data": {
          "bar": [
           {
            "error_x": {
             "color": "#2a3f5f"
            },
            "error_y": {
             "color": "#2a3f5f"
            },
            "marker": {
             "line": {
              "color": "#E5ECF6",
              "width": 0.5
             }
            },
            "type": "bar"
           }
          ],
          "barpolar": [
           {
            "marker": {
             "line": {
              "color": "#E5ECF6",
              "width": 0.5
             }
            },
            "type": "barpolar"
           }
          ],
          "carpet": [
           {
            "aaxis": {
             "endlinecolor": "#2a3f5f",
             "gridcolor": "white",
             "linecolor": "white",
             "minorgridcolor": "white",
             "startlinecolor": "#2a3f5f"
            },
            "baxis": {
             "endlinecolor": "#2a3f5f",
             "gridcolor": "white",
             "linecolor": "white",
             "minorgridcolor": "white",
             "startlinecolor": "#2a3f5f"
            },
            "type": "carpet"
           }
          ],
          "choropleth": [
           {
            "colorbar": {
             "outlinewidth": 0,
             "ticks": ""
            },
            "type": "choropleth"
           }
          ],
          "contour": [
           {
            "colorbar": {
             "outlinewidth": 0,
             "ticks": ""
            },
            "colorscale": [
             [
              0,
              "#0d0887"
             ],
             [
              0.1111111111111111,
              "#46039f"
             ],
             [
              0.2222222222222222,
              "#7201a8"
             ],
             [
              0.3333333333333333,
              "#9c179e"
             ],
             [
              0.4444444444444444,
              "#bd3786"
             ],
             [
              0.5555555555555556,
              "#d8576b"
             ],
             [
              0.6666666666666666,
              "#ed7953"
             ],
             [
              0.7777777777777778,
              "#fb9f3a"
             ],
             [
              0.8888888888888888,
              "#fdca26"
             ],
             [
              1,
              "#f0f921"
             ]
            ],
            "type": "contour"
           }
          ],
          "contourcarpet": [
           {
            "colorbar": {
             "outlinewidth": 0,
             "ticks": ""
            },
            "type": "contourcarpet"
           }
          ],
          "heatmap": [
           {
            "colorbar": {
             "outlinewidth": 0,
             "ticks": ""
            },
            "colorscale": [
             [
              0,
              "#0d0887"
             ],
             [
              0.1111111111111111,
              "#46039f"
             ],
             [
              0.2222222222222222,
              "#7201a8"
             ],
             [
              0.3333333333333333,
              "#9c179e"
             ],
             [
              0.4444444444444444,
              "#bd3786"
             ],
             [
              0.5555555555555556,
              "#d8576b"
             ],
             [
              0.6666666666666666,
              "#ed7953"
             ],
             [
              0.7777777777777778,
              "#fb9f3a"
             ],
             [
              0.8888888888888888,
              "#fdca26"
             ],
             [
              1,
              "#f0f921"
             ]
            ],
            "type": "heatmap"
           }
          ],
          "heatmapgl": [
           {
            "colorbar": {
             "outlinewidth": 0,
             "ticks": ""
            },
            "colorscale": [
             [
              0,
              "#0d0887"
             ],
             [
              0.1111111111111111,
              "#46039f"
             ],
             [
              0.2222222222222222,
              "#7201a8"
             ],
             [
              0.3333333333333333,
              "#9c179e"
             ],
             [
              0.4444444444444444,
              "#bd3786"
             ],
             [
              0.5555555555555556,
              "#d8576b"
             ],
             [
              0.6666666666666666,
              "#ed7953"
             ],
             [
              0.7777777777777778,
              "#fb9f3a"
             ],
             [
              0.8888888888888888,
              "#fdca26"
             ],
             [
              1,
              "#f0f921"
             ]
            ],
            "type": "heatmapgl"
           }
          ],
          "histogram": [
           {
            "marker": {
             "colorbar": {
              "outlinewidth": 0,
              "ticks": ""
             }
            },
            "type": "histogram"
           }
          ],
          "histogram2d": [
           {
            "colorbar": {
             "outlinewidth": 0,
             "ticks": ""
            },
            "colorscale": [
             [
              0,
              "#0d0887"
             ],
             [
              0.1111111111111111,
              "#46039f"
             ],
             [
              0.2222222222222222,
              "#7201a8"
             ],
             [
              0.3333333333333333,
              "#9c179e"
             ],
             [
              0.4444444444444444,
              "#bd3786"
             ],
             [
              0.5555555555555556,
              "#d8576b"
             ],
             [
              0.6666666666666666,
              "#ed7953"
             ],
             [
              0.7777777777777778,
              "#fb9f3a"
             ],
             [
              0.8888888888888888,
              "#fdca26"
             ],
             [
              1,
              "#f0f921"
             ]
            ],
            "type": "histogram2d"
           }
          ],
          "histogram2dcontour": [
           {
            "colorbar": {
             "outlinewidth": 0,
             "ticks": ""
            },
            "colorscale": [
             [
              0,
              "#0d0887"
             ],
             [
              0.1111111111111111,
              "#46039f"
             ],
             [
              0.2222222222222222,
              "#7201a8"
             ],
             [
              0.3333333333333333,
              "#9c179e"
             ],
             [
              0.4444444444444444,
              "#bd3786"
             ],
             [
              0.5555555555555556,
              "#d8576b"
             ],
             [
              0.6666666666666666,
              "#ed7953"
             ],
             [
              0.7777777777777778,
              "#fb9f3a"
             ],
             [
              0.8888888888888888,
              "#fdca26"
             ],
             [
              1,
              "#f0f921"
             ]
            ],
            "type": "histogram2dcontour"
           }
          ],
          "mesh3d": [
           {
            "colorbar": {
             "outlinewidth": 0,
             "ticks": ""
            },
            "type": "mesh3d"
           }
          ],
          "parcoords": [
           {
            "line": {
             "colorbar": {
              "outlinewidth": 0,
              "ticks": ""
             }
            },
            "type": "parcoords"
           }
          ],
          "pie": [
           {
            "automargin": true,
            "type": "pie"
           }
          ],
          "scatter": [
           {
            "marker": {
             "colorbar": {
              "outlinewidth": 0,
              "ticks": ""
             }
            },
            "type": "scatter"
           }
          ],
          "scatter3d": [
           {
            "line": {
             "colorbar": {
              "outlinewidth": 0,
              "ticks": ""
             }
            },
            "marker": {
             "colorbar": {
              "outlinewidth": 0,
              "ticks": ""
             }
            },
            "type": "scatter3d"
           }
          ],
          "scattercarpet": [
           {
            "marker": {
             "colorbar": {
              "outlinewidth": 0,
              "ticks": ""
             }
            },
            "type": "scattercarpet"
           }
          ],
          "scattergeo": [
           {
            "marker": {
             "colorbar": {
              "outlinewidth": 0,
              "ticks": ""
             }
            },
            "type": "scattergeo"
           }
          ],
          "scattergl": [
           {
            "marker": {
             "colorbar": {
              "outlinewidth": 0,
              "ticks": ""
             }
            },
            "type": "scattergl"
           }
          ],
          "scattermapbox": [
           {
            "marker": {
             "colorbar": {
              "outlinewidth": 0,
              "ticks": ""
             }
            },
            "type": "scattermapbox"
           }
          ],
          "scatterpolar": [
           {
            "marker": {
             "colorbar": {
              "outlinewidth": 0,
              "ticks": ""
             }
            },
            "type": "scatterpolar"
           }
          ],
          "scatterpolargl": [
           {
            "marker": {
             "colorbar": {
              "outlinewidth": 0,
              "ticks": ""
             }
            },
            "type": "scatterpolargl"
           }
          ],
          "scatterternary": [
           {
            "marker": {
             "colorbar": {
              "outlinewidth": 0,
              "ticks": ""
             }
            },
            "type": "scatterternary"
           }
          ],
          "surface": [
           {
            "colorbar": {
             "outlinewidth": 0,
             "ticks": ""
            },
            "colorscale": [
             [
              0,
              "#0d0887"
             ],
             [
              0.1111111111111111,
              "#46039f"
             ],
             [
              0.2222222222222222,
              "#7201a8"
             ],
             [
              0.3333333333333333,
              "#9c179e"
             ],
             [
              0.4444444444444444,
              "#bd3786"
             ],
             [
              0.5555555555555556,
              "#d8576b"
             ],
             [
              0.6666666666666666,
              "#ed7953"
             ],
             [
              0.7777777777777778,
              "#fb9f3a"
             ],
             [
              0.8888888888888888,
              "#fdca26"
             ],
             [
              1,
              "#f0f921"
             ]
            ],
            "type": "surface"
           }
          ],
          "table": [
           {
            "cells": {
             "fill": {
              "color": "#EBF0F8"
             },
             "line": {
              "color": "white"
             }
            },
            "header": {
             "fill": {
              "color": "#C8D4E3"
             },
             "line": {
              "color": "white"
             }
            },
            "type": "table"
           }
          ]
         },
         "layout": {
          "annotationdefaults": {
           "arrowcolor": "#2a3f5f",
           "arrowhead": 0,
           "arrowwidth": 1
          },
          "autotypenumbers": "strict",
          "coloraxis": {
           "colorbar": {
            "outlinewidth": 0,
            "ticks": ""
           }
          },
          "colorscale": {
           "diverging": [
            [
             0,
             "#8e0152"
            ],
            [
             0.1,
             "#c51b7d"
            ],
            [
             0.2,
             "#de77ae"
            ],
            [
             0.3,
             "#f1b6da"
            ],
            [
             0.4,
             "#fde0ef"
            ],
            [
             0.5,
             "#f7f7f7"
            ],
            [
             0.6,
             "#e6f5d0"
            ],
            [
             0.7,
             "#b8e186"
            ],
            [
             0.8,
             "#7fbc41"
            ],
            [
             0.9,
             "#4d9221"
            ],
            [
             1,
             "#276419"
            ]
           ],
           "sequential": [
            [
             0,
             "#0d0887"
            ],
            [
             0.1111111111111111,
             "#46039f"
            ],
            [
             0.2222222222222222,
             "#7201a8"
            ],
            [
             0.3333333333333333,
             "#9c179e"
            ],
            [
             0.4444444444444444,
             "#bd3786"
            ],
            [
             0.5555555555555556,
             "#d8576b"
            ],
            [
             0.6666666666666666,
             "#ed7953"
            ],
            [
             0.7777777777777778,
             "#fb9f3a"
            ],
            [
             0.8888888888888888,
             "#fdca26"
            ],
            [
             1,
             "#f0f921"
            ]
           ],
           "sequentialminus": [
            [
             0,
             "#0d0887"
            ],
            [
             0.1111111111111111,
             "#46039f"
            ],
            [
             0.2222222222222222,
             "#7201a8"
            ],
            [
             0.3333333333333333,
             "#9c179e"
            ],
            [
             0.4444444444444444,
             "#bd3786"
            ],
            [
             0.5555555555555556,
             "#d8576b"
            ],
            [
             0.6666666666666666,
             "#ed7953"
            ],
            [
             0.7777777777777778,
             "#fb9f3a"
            ],
            [
             0.8888888888888888,
             "#fdca26"
            ],
            [
             1,
             "#f0f921"
            ]
           ]
          },
          "colorway": [
           "#636efa",
           "#EF553B",
           "#00cc96",
           "#ab63fa",
           "#FFA15A",
           "#19d3f3",
           "#FF6692",
           "#B6E880",
           "#FF97FF",
           "#FECB52"
          ],
          "font": {
           "color": "#2a3f5f"
          },
          "geo": {
           "bgcolor": "white",
           "lakecolor": "white",
           "landcolor": "#E5ECF6",
           "showlakes": true,
           "showland": true,
           "subunitcolor": "white"
          },
          "hoverlabel": {
           "align": "left"
          },
          "hovermode": "closest",
          "mapbox": {
           "style": "light"
          },
          "paper_bgcolor": "white",
          "plot_bgcolor": "#E5ECF6",
          "polar": {
           "angularaxis": {
            "gridcolor": "white",
            "linecolor": "white",
            "ticks": ""
           },
           "bgcolor": "#E5ECF6",
           "radialaxis": {
            "gridcolor": "white",
            "linecolor": "white",
            "ticks": ""
           }
          },
          "scene": {
           "xaxis": {
            "backgroundcolor": "#E5ECF6",
            "gridcolor": "white",
            "gridwidth": 2,
            "linecolor": "white",
            "showbackground": true,
            "ticks": "",
            "zerolinecolor": "white"
           },
           "yaxis": {
            "backgroundcolor": "#E5ECF6",
            "gridcolor": "white",
            "gridwidth": 2,
            "linecolor": "white",
            "showbackground": true,
            "ticks": "",
            "zerolinecolor": "white"
           },
           "zaxis": {
            "backgroundcolor": "#E5ECF6",
            "gridcolor": "white",
            "gridwidth": 2,
            "linecolor": "white",
            "showbackground": true,
            "ticks": "",
            "zerolinecolor": "white"
           }
          },
          "shapedefaults": {
           "line": {
            "color": "#2a3f5f"
           }
          },
          "ternary": {
           "aaxis": {
            "gridcolor": "white",
            "linecolor": "white",
            "ticks": ""
           },
           "baxis": {
            "gridcolor": "white",
            "linecolor": "white",
            "ticks": ""
           },
           "bgcolor": "#E5ECF6",
           "caxis": {
            "gridcolor": "white",
            "linecolor": "white",
            "ticks": ""
           }
          },
          "title": {
           "x": 0.05
          },
          "xaxis": {
           "automargin": true,
           "gridcolor": "white",
           "linecolor": "white",
           "ticks": "",
           "title": {
            "standoff": 15
           },
           "zerolinecolor": "white",
           "zerolinewidth": 2
          },
          "yaxis": {
           "automargin": true,
           "gridcolor": "white",
           "linecolor": "white",
           "ticks": "",
           "title": {
            "standoff": 15
           },
           "zerolinecolor": "white",
           "zerolinewidth": 2
          }
         }
        },
        "title": {
         "text": "Feature Importance<br><sub>May display fewer features due to feature selection</sub>"
        },
        "xaxis": {
         "title": {
          "text": "Feature Importance"
         }
        },
        "yaxis": {
         "title": {
          "text": "Feature"
         },
         "type": "category"
        }
       }
      },
      "text/html": [
       "<div>                            <div id=\"d98f1ddb-71a3-4a01-b6b6-55ad4c02be58\" class=\"plotly-graph-div\" style=\"height:800px; width:100%;\"></div>            <script type=\"text/javascript\">                require([\"plotly\"], function(Plotly) {                    window.PLOTLYENV=window.PLOTLYENV || {};                                    if (document.getElementById(\"d98f1ddb-71a3-4a01-b6b6-55ad4c02be58\")) {                    Plotly.newPlot(                        \"d98f1ddb-71a3-4a01-b6b6-55ad4c02be58\",                        [{\"orientation\": \"h\", \"type\": \"bar\", \"x\": [0, 0, 0, 0, 0, 0, 1, 1, 2, 2, 3, 3, 3, 3, 4, 4, 5, 6, 6, 7, 7, 7, 9, 10, 10, 11, 11, 11, 13, 15, 16, 16, 17, 17, 20, 20, 20, 22, 25, 25, 27, 29, 30, 31, 31, 39, 40, 45, 48, 48, 49, 51, 53, 53, 53, 62, 69, 93, 108, 111, 123, 123, 139, 145, 475, 573], \"y\": [\"DEM_STATE_WA\", \"DEM_HEALTH_OTH\", \"DEM_HEALTH_OUT\", \"DEM_HEALTH_PRE\", \"DEM_HEALTH_PRIV\", \"DEM_RACE_NHPI\", \"DEM_PREG_WK\", \"DEM_PREG\", \"DEM_STATE_IL\", \"DEM_HEALTH\", \"DEM_STATE_MI\", \"DEM_RACE_ASIAN\", \"MENT_SCH\", \"MENT_PPD\", \"DEM_STDNT\", \"DEM_RACE_OTH\", \"DEM_STDNT_UNDER\", \"DEM_STATE_OH\", \"DEM_STATE_GA\", \"DEM_STATE_CA\", \"DEM_RACE_AIAN\", \"MENT_OCD\", \"DEM_HEALTH_HOME\", \"DEM_STATE_TX\", \"MENT_EAT\", \"DEM_STATE_PA\", \"DEM_STATE_FL\", \"MENT_AUT\", \"MENT_ADHD\", \"MENT_PTSD\", \"DEM_HEALTH_ROLE\", \"DEM_STDNT_PROGRAM\", \"DEM_VET\", \"DEM_RACE_WHITE\", \"DEM_STATE_NY\", \"DEM_HEALTH_HOS\", \"PAIN_CHRONICYR_RX\", \"DEM_RACE_BLACK\", \"DEM_HISPANIC\", \"PAIN_ACUTEYR_DOC\", \"MENT_OTH\", \"PAIN_ACUTEYR_RX\", \"MENT_DEP\", \"MENT_BPD\", \"DEM_REGION\", \"PAIN_CHRONICYR_DOC\", \"MENT_BIP\", \"CAN_TYPEYR_MED\", \"MENT_NONE\", \"PAIN_ACUTEYR\", \"DEM_INSUR\", \"MENT_ANYANX\", \"DEM_HOSPSTAY\", \"PAIN_CHRONICYR\", \"DEM_LIMIT\", \"DEM_EMPLOY\", \"ALC_USEYR\", \"DEM_GENDER\", \"TOB_LIFE\", \"DEM_GENHEALTH\", \"DEM_MARITAL\", \"DEM_INCOME\", \"DEM_EDU\", \"DEM_HOME\", \"DEM_AGE\", \"DEM_POSTAL\"]}],                        {\"height\": 800, \"template\": {\"data\": {\"bar\": [{\"error_x\": {\"color\": \"#2a3f5f\"}, \"error_y\": {\"color\": \"#2a3f5f\"}, \"marker\": {\"line\": {\"color\": \"#E5ECF6\", \"width\": 0.5}}, \"type\": \"bar\"}], \"barpolar\": [{\"marker\": {\"line\": {\"color\": \"#E5ECF6\", \"width\": 0.5}}, \"type\": \"barpolar\"}], \"carpet\": [{\"aaxis\": {\"endlinecolor\": \"#2a3f5f\", \"gridcolor\": \"white\", \"linecolor\": \"white\", \"minorgridcolor\": \"white\", \"startlinecolor\": \"#2a3f5f\"}, \"baxis\": {\"endlinecolor\": \"#2a3f5f\", \"gridcolor\": \"white\", \"linecolor\": \"white\", \"minorgridcolor\": \"white\", \"startlinecolor\": \"#2a3f5f\"}, \"type\": \"carpet\"}], \"choropleth\": [{\"colorbar\": {\"outlinewidth\": 0, \"ticks\": \"\"}, \"type\": \"choropleth\"}], \"contour\": [{\"colorbar\": {\"outlinewidth\": 0, \"ticks\": \"\"}, \"colorscale\": [[0.0, \"#0d0887\"], [0.1111111111111111, \"#46039f\"], [0.2222222222222222, \"#7201a8\"], [0.3333333333333333, \"#9c179e\"], [0.4444444444444444, \"#bd3786\"], [0.5555555555555556, \"#d8576b\"], [0.6666666666666666, \"#ed7953\"], [0.7777777777777778, \"#fb9f3a\"], [0.8888888888888888, \"#fdca26\"], [1.0, \"#f0f921\"]], \"type\": \"contour\"}], \"contourcarpet\": [{\"colorbar\": {\"outlinewidth\": 0, \"ticks\": \"\"}, \"type\": \"contourcarpet\"}], \"heatmap\": [{\"colorbar\": {\"outlinewidth\": 0, \"ticks\": \"\"}, \"colorscale\": [[0.0, \"#0d0887\"], [0.1111111111111111, \"#46039f\"], [0.2222222222222222, \"#7201a8\"], [0.3333333333333333, \"#9c179e\"], [0.4444444444444444, \"#bd3786\"], [0.5555555555555556, \"#d8576b\"], [0.6666666666666666, \"#ed7953\"], [0.7777777777777778, \"#fb9f3a\"], [0.8888888888888888, \"#fdca26\"], [1.0, \"#f0f921\"]], \"type\": \"heatmap\"}], \"heatmapgl\": [{\"colorbar\": {\"outlinewidth\": 0, \"ticks\": \"\"}, \"colorscale\": [[0.0, \"#0d0887\"], [0.1111111111111111, \"#46039f\"], [0.2222222222222222, \"#7201a8\"], [0.3333333333333333, \"#9c179e\"], [0.4444444444444444, \"#bd3786\"], [0.5555555555555556, \"#d8576b\"], [0.6666666666666666, \"#ed7953\"], [0.7777777777777778, \"#fb9f3a\"], [0.8888888888888888, \"#fdca26\"], [1.0, \"#f0f921\"]], \"type\": \"heatmapgl\"}], \"histogram\": [{\"marker\": {\"colorbar\": {\"outlinewidth\": 0, \"ticks\": \"\"}}, \"type\": \"histogram\"}], \"histogram2d\": [{\"colorbar\": {\"outlinewidth\": 0, \"ticks\": \"\"}, \"colorscale\": [[0.0, \"#0d0887\"], [0.1111111111111111, \"#46039f\"], [0.2222222222222222, \"#7201a8\"], [0.3333333333333333, \"#9c179e\"], [0.4444444444444444, \"#bd3786\"], [0.5555555555555556, \"#d8576b\"], [0.6666666666666666, \"#ed7953\"], [0.7777777777777778, \"#fb9f3a\"], [0.8888888888888888, \"#fdca26\"], [1.0, \"#f0f921\"]], \"type\": \"histogram2d\"}], \"histogram2dcontour\": [{\"colorbar\": {\"outlinewidth\": 0, \"ticks\": \"\"}, \"colorscale\": [[0.0, \"#0d0887\"], [0.1111111111111111, \"#46039f\"], [0.2222222222222222, \"#7201a8\"], [0.3333333333333333, \"#9c179e\"], [0.4444444444444444, \"#bd3786\"], [0.5555555555555556, \"#d8576b\"], [0.6666666666666666, \"#ed7953\"], [0.7777777777777778, \"#fb9f3a\"], [0.8888888888888888, \"#fdca26\"], [1.0, \"#f0f921\"]], \"type\": \"histogram2dcontour\"}], \"mesh3d\": [{\"colorbar\": {\"outlinewidth\": 0, \"ticks\": \"\"}, \"type\": \"mesh3d\"}], \"parcoords\": [{\"line\": {\"colorbar\": {\"outlinewidth\": 0, \"ticks\": \"\"}}, \"type\": \"parcoords\"}], \"pie\": [{\"automargin\": true, \"type\": \"pie\"}], \"scatter\": [{\"marker\": {\"colorbar\": {\"outlinewidth\": 0, \"ticks\": \"\"}}, \"type\": \"scatter\"}], \"scatter3d\": [{\"line\": {\"colorbar\": {\"outlinewidth\": 0, \"ticks\": \"\"}}, \"marker\": {\"colorbar\": {\"outlinewidth\": 0, \"ticks\": \"\"}}, \"type\": \"scatter3d\"}], \"scattercarpet\": [{\"marker\": {\"colorbar\": {\"outlinewidth\": 0, \"ticks\": \"\"}}, \"type\": \"scattercarpet\"}], \"scattergeo\": [{\"marker\": {\"colorbar\": {\"outlinewidth\": 0, \"ticks\": \"\"}}, \"type\": \"scattergeo\"}], \"scattergl\": [{\"marker\": {\"colorbar\": {\"outlinewidth\": 0, \"ticks\": \"\"}}, \"type\": \"scattergl\"}], \"scattermapbox\": [{\"marker\": {\"colorbar\": {\"outlinewidth\": 0, \"ticks\": \"\"}}, \"type\": \"scattermapbox\"}], \"scatterpolar\": [{\"marker\": {\"colorbar\": {\"outlinewidth\": 0, \"ticks\": \"\"}}, \"type\": \"scatterpolar\"}], \"scatterpolargl\": [{\"marker\": {\"colorbar\": {\"outlinewidth\": 0, \"ticks\": \"\"}}, \"type\": \"scatterpolargl\"}], \"scatterternary\": [{\"marker\": {\"colorbar\": {\"outlinewidth\": 0, \"ticks\": \"\"}}, \"type\": \"scatterternary\"}], \"surface\": [{\"colorbar\": {\"outlinewidth\": 0, \"ticks\": \"\"}, \"colorscale\": [[0.0, \"#0d0887\"], [0.1111111111111111, \"#46039f\"], [0.2222222222222222, \"#7201a8\"], [0.3333333333333333, \"#9c179e\"], [0.4444444444444444, \"#bd3786\"], [0.5555555555555556, \"#d8576b\"], [0.6666666666666666, \"#ed7953\"], [0.7777777777777778, \"#fb9f3a\"], [0.8888888888888888, \"#fdca26\"], [1.0, \"#f0f921\"]], \"type\": \"surface\"}], \"table\": [{\"cells\": {\"fill\": {\"color\": \"#EBF0F8\"}, \"line\": {\"color\": \"white\"}}, \"header\": {\"fill\": {\"color\": \"#C8D4E3\"}, \"line\": {\"color\": \"white\"}}, \"type\": \"table\"}]}, \"layout\": {\"annotationdefaults\": {\"arrowcolor\": \"#2a3f5f\", \"arrowhead\": 0, \"arrowwidth\": 1}, \"autotypenumbers\": \"strict\", \"coloraxis\": {\"colorbar\": {\"outlinewidth\": 0, \"ticks\": \"\"}}, \"colorscale\": {\"diverging\": [[0, \"#8e0152\"], [0.1, \"#c51b7d\"], [0.2, \"#de77ae\"], [0.3, \"#f1b6da\"], [0.4, \"#fde0ef\"], [0.5, \"#f7f7f7\"], [0.6, \"#e6f5d0\"], [0.7, \"#b8e186\"], [0.8, \"#7fbc41\"], [0.9, \"#4d9221\"], [1, \"#276419\"]], \"sequential\": [[0.0, \"#0d0887\"], [0.1111111111111111, \"#46039f\"], [0.2222222222222222, \"#7201a8\"], [0.3333333333333333, \"#9c179e\"], [0.4444444444444444, \"#bd3786\"], [0.5555555555555556, \"#d8576b\"], [0.6666666666666666, \"#ed7953\"], [0.7777777777777778, \"#fb9f3a\"], [0.8888888888888888, \"#fdca26\"], [1.0, \"#f0f921\"]], \"sequentialminus\": [[0.0, \"#0d0887\"], [0.1111111111111111, \"#46039f\"], [0.2222222222222222, \"#7201a8\"], [0.3333333333333333, \"#9c179e\"], [0.4444444444444444, \"#bd3786\"], [0.5555555555555556, \"#d8576b\"], [0.6666666666666666, \"#ed7953\"], [0.7777777777777778, \"#fb9f3a\"], [0.8888888888888888, \"#fdca26\"], [1.0, \"#f0f921\"]]}, \"colorway\": [\"#636efa\", \"#EF553B\", \"#00cc96\", \"#ab63fa\", \"#FFA15A\", \"#19d3f3\", \"#FF6692\", \"#B6E880\", \"#FF97FF\", \"#FECB52\"], \"font\": {\"color\": \"#2a3f5f\"}, \"geo\": {\"bgcolor\": \"white\", \"lakecolor\": \"white\", \"landcolor\": \"#E5ECF6\", \"showlakes\": true, \"showland\": true, \"subunitcolor\": \"white\"}, \"hoverlabel\": {\"align\": \"left\"}, \"hovermode\": \"closest\", \"mapbox\": {\"style\": \"light\"}, \"paper_bgcolor\": \"white\", \"plot_bgcolor\": \"#E5ECF6\", \"polar\": {\"angularaxis\": {\"gridcolor\": \"white\", \"linecolor\": \"white\", \"ticks\": \"\"}, \"bgcolor\": \"#E5ECF6\", \"radialaxis\": {\"gridcolor\": \"white\", \"linecolor\": \"white\", \"ticks\": \"\"}}, \"scene\": {\"xaxis\": {\"backgroundcolor\": \"#E5ECF6\", \"gridcolor\": \"white\", \"gridwidth\": 2, \"linecolor\": \"white\", \"showbackground\": true, \"ticks\": \"\", \"zerolinecolor\": \"white\"}, \"yaxis\": {\"backgroundcolor\": \"#E5ECF6\", \"gridcolor\": \"white\", \"gridwidth\": 2, \"linecolor\": \"white\", \"showbackground\": true, \"ticks\": \"\", \"zerolinecolor\": \"white\"}, \"zaxis\": {\"backgroundcolor\": \"#E5ECF6\", \"gridcolor\": \"white\", \"gridwidth\": 2, \"linecolor\": \"white\", \"showbackground\": true, \"ticks\": \"\", \"zerolinecolor\": \"white\"}}, \"shapedefaults\": {\"line\": {\"color\": \"#2a3f5f\"}}, \"ternary\": {\"aaxis\": {\"gridcolor\": \"white\", \"linecolor\": \"white\", \"ticks\": \"\"}, \"baxis\": {\"gridcolor\": \"white\", \"linecolor\": \"white\", \"ticks\": \"\"}, \"bgcolor\": \"#E5ECF6\", \"caxis\": {\"gridcolor\": \"white\", \"linecolor\": \"white\", \"ticks\": \"\"}}, \"title\": {\"x\": 0.05}, \"xaxis\": {\"automargin\": true, \"gridcolor\": \"white\", \"linecolor\": \"white\", \"ticks\": \"\", \"title\": {\"standoff\": 15}, \"zerolinecolor\": \"white\", \"zerolinewidth\": 2}, \"yaxis\": {\"automargin\": true, \"gridcolor\": \"white\", \"linecolor\": \"white\", \"ticks\": \"\", \"title\": {\"standoff\": 15}, \"zerolinecolor\": \"white\", \"zerolinewidth\": 2}}}, \"title\": {\"text\": \"Feature Importance<br><sub>May display fewer features due to feature selection</sub>\"}, \"xaxis\": {\"title\": {\"text\": \"Feature Importance\"}}, \"yaxis\": {\"title\": {\"text\": \"Feature\"}, \"type\": \"category\"}},                        {\"responsive\": true}                    ).then(function(){\n",
       "                            \n",
       "var gd = document.getElementById('d98f1ddb-71a3-4a01-b6b6-55ad4c02be58');\n",
       "var x = new MutationObserver(function (mutations, observer) {{\n",
       "        var display = window.getComputedStyle(gd).display;\n",
       "        if (!display || display === 'none') {{\n",
       "            console.log([gd, 'removed!']);\n",
       "            Plotly.purge(gd);\n",
       "            observer.disconnect();\n",
       "        }}\n",
       "}});\n",
       "\n",
       "// Listen for the removal of the full notebook cells\n",
       "var notebookContainer = gd.closest('#notebook-container');\n",
       "if (notebookContainer) {{\n",
       "    x.observe(notebookContainer, {childList: true});\n",
       "}}\n",
       "\n",
       "// Listen for the clearing of the current output cell\n",
       "var outputEl = gd.closest('.output');\n",
       "if (outputEl) {{\n",
       "    x.observe(outputEl, {childList: true});\n",
       "}}\n",
       "\n",
       "                        })                };                });            </script>        </div>"
      ]
     },
     "metadata": {},
     "output_type": "display_data"
    }
   ],
   "source": [
    "best_pipeline.graph_feature_importance()"
   ]
  },
  {
   "cell_type": "code",
   "execution_count": 63,
   "metadata": {},
   "outputs": [
    {
     "name": "stdout",
     "output_type": "stream",
     "text": [
      "Accuracy: 0.9148480385593788\n"
     ]
    }
   ],
   "source": [
    "predictions = best_pipeline.predict(X_test)\n",
    "predictions = predictions.to_series().to_list()\n",
    "\n",
    "print ('Accuracy: ' + str(accuracy_score(y_test, predictions)))"
   ]
  },
  {
   "cell_type": "code",
   "execution_count": 64,
   "metadata": {},
   "outputs": [
    {
     "data": {
      "text/html": [
       "<div>\n",
       "<style scoped>\n",
       "    .dataframe tbody tr th:only-of-type {\n",
       "        vertical-align: middle;\n",
       "    }\n",
       "\n",
       "    .dataframe tbody tr th {\n",
       "        vertical-align: top;\n",
       "    }\n",
       "\n",
       "    .dataframe thead th {\n",
       "        text-align: right;\n",
       "    }\n",
       "</style>\n",
       "<table border=\"1\" class=\"dataframe\">\n",
       "  <thead>\n",
       "    <tr style=\"text-align: right;\">\n",
       "      <th></th>\n",
       "      <th>0</th>\n",
       "      <th>1</th>\n",
       "    </tr>\n",
       "  </thead>\n",
       "  <tbody>\n",
       "    <tr>\n",
       "      <th>0</th>\n",
       "      <td>0.928650</td>\n",
       "      <td>0.071350</td>\n",
       "    </tr>\n",
       "    <tr>\n",
       "      <th>1</th>\n",
       "      <td>0.564593</td>\n",
       "      <td>0.435407</td>\n",
       "    </tr>\n",
       "  </tbody>\n",
       "</table>\n",
       "</div>"
      ],
      "text/plain": [
       "          0         1\n",
       "0  0.928650  0.071350\n",
       "1  0.564593  0.435407"
      ]
     },
     "execution_count": 64,
     "metadata": {},
     "output_type": "execute_result"
    }
   ],
   "source": [
    "confusion_matrix(y_test, predictions)"
   ]
  },
  {
   "cell_type": "code",
   "execution_count": 65,
   "metadata": {},
   "outputs": [
    {
     "data": {
      "application/vnd.plotly.v1+json": {
       "config": {
        "plotlyServerURL": "https://plot.ly"
       },
       "data": [
        {
         "colorscale": [
          [
           0,
           "rgb(247,251,255)"
          ],
          [
           0.125,
           "rgb(222,235,247)"
          ],
          [
           0.25,
           "rgb(198,219,239)"
          ],
          [
           0.375,
           "rgb(158,202,225)"
          ],
          [
           0.5,
           "rgb(107,174,214)"
          ],
          [
           0.625,
           "rgb(66,146,198)"
          ],
          [
           0.75,
           "rgb(33,113,181)"
          ],
          [
           0.875,
           "rgb(8,81,156)"
          ],
          [
           1,
           "rgb(8,48,107)"
          ]
         ],
         "customdata": [
          [
           6742,
           518
          ],
          [
           118,
           91
          ]
         ],
         "hovertemplate": "<b>True</b>: %{y}<br><b>Predicted</b>: %{x}<br><b>Normalized Count</b>: %{z}<br><b>Raw Count</b>: %{customdata} <br><extra></extra>",
         "reversescale": false,
         "showscale": true,
         "type": "heatmap",
         "x": [
          0,
          1
         ],
         "y": [
          0,
          1
         ],
         "z": [
          [
           0.9286501377410469,
           0.07134986225895316
          ],
          [
           0.5645933014354066,
           0.4354066985645933
          ]
         ]
        }
       ],
       "layout": {
        "annotations": [
         {
          "font": {
           "color": "#FFFFFF"
          },
          "showarrow": false,
          "text": "0.929",
          "x": 0,
          "xref": "x",
          "y": 0,
          "yref": "y"
         },
         {
          "font": {
           "color": "#000000"
          },
          "showarrow": false,
          "text": "0.071",
          "x": 1,
          "xref": "x",
          "y": 0,
          "yref": "y"
         },
         {
          "font": {
           "color": "#FFFFFF"
          },
          "showarrow": false,
          "text": "0.565",
          "x": 0,
          "xref": "x",
          "y": 1,
          "yref": "y"
         },
         {
          "font": {
           "color": "#000000"
          },
          "showarrow": false,
          "text": "0.435",
          "x": 1,
          "xref": "x",
          "y": 1,
          "yref": "y"
         }
        ],
        "template": {
         "data": {
          "bar": [
           {
            "error_x": {
             "color": "#2a3f5f"
            },
            "error_y": {
             "color": "#2a3f5f"
            },
            "marker": {
             "line": {
              "color": "#E5ECF6",
              "width": 0.5
             }
            },
            "type": "bar"
           }
          ],
          "barpolar": [
           {
            "marker": {
             "line": {
              "color": "#E5ECF6",
              "width": 0.5
             }
            },
            "type": "barpolar"
           }
          ],
          "carpet": [
           {
            "aaxis": {
             "endlinecolor": "#2a3f5f",
             "gridcolor": "white",
             "linecolor": "white",
             "minorgridcolor": "white",
             "startlinecolor": "#2a3f5f"
            },
            "baxis": {
             "endlinecolor": "#2a3f5f",
             "gridcolor": "white",
             "linecolor": "white",
             "minorgridcolor": "white",
             "startlinecolor": "#2a3f5f"
            },
            "type": "carpet"
           }
          ],
          "choropleth": [
           {
            "colorbar": {
             "outlinewidth": 0,
             "ticks": ""
            },
            "type": "choropleth"
           }
          ],
          "contour": [
           {
            "colorbar": {
             "outlinewidth": 0,
             "ticks": ""
            },
            "colorscale": [
             [
              0,
              "#0d0887"
             ],
             [
              0.1111111111111111,
              "#46039f"
             ],
             [
              0.2222222222222222,
              "#7201a8"
             ],
             [
              0.3333333333333333,
              "#9c179e"
             ],
             [
              0.4444444444444444,
              "#bd3786"
             ],
             [
              0.5555555555555556,
              "#d8576b"
             ],
             [
              0.6666666666666666,
              "#ed7953"
             ],
             [
              0.7777777777777778,
              "#fb9f3a"
             ],
             [
              0.8888888888888888,
              "#fdca26"
             ],
             [
              1,
              "#f0f921"
             ]
            ],
            "type": "contour"
           }
          ],
          "contourcarpet": [
           {
            "colorbar": {
             "outlinewidth": 0,
             "ticks": ""
            },
            "type": "contourcarpet"
           }
          ],
          "heatmap": [
           {
            "colorbar": {
             "outlinewidth": 0,
             "ticks": ""
            },
            "colorscale": [
             [
              0,
              "#0d0887"
             ],
             [
              0.1111111111111111,
              "#46039f"
             ],
             [
              0.2222222222222222,
              "#7201a8"
             ],
             [
              0.3333333333333333,
              "#9c179e"
             ],
             [
              0.4444444444444444,
              "#bd3786"
             ],
             [
              0.5555555555555556,
              "#d8576b"
             ],
             [
              0.6666666666666666,
              "#ed7953"
             ],
             [
              0.7777777777777778,
              "#fb9f3a"
             ],
             [
              0.8888888888888888,
              "#fdca26"
             ],
             [
              1,
              "#f0f921"
             ]
            ],
            "type": "heatmap"
           }
          ],
          "heatmapgl": [
           {
            "colorbar": {
             "outlinewidth": 0,
             "ticks": ""
            },
            "colorscale": [
             [
              0,
              "#0d0887"
             ],
             [
              0.1111111111111111,
              "#46039f"
             ],
             [
              0.2222222222222222,
              "#7201a8"
             ],
             [
              0.3333333333333333,
              "#9c179e"
             ],
             [
              0.4444444444444444,
              "#bd3786"
             ],
             [
              0.5555555555555556,
              "#d8576b"
             ],
             [
              0.6666666666666666,
              "#ed7953"
             ],
             [
              0.7777777777777778,
              "#fb9f3a"
             ],
             [
              0.8888888888888888,
              "#fdca26"
             ],
             [
              1,
              "#f0f921"
             ]
            ],
            "type": "heatmapgl"
           }
          ],
          "histogram": [
           {
            "marker": {
             "colorbar": {
              "outlinewidth": 0,
              "ticks": ""
             }
            },
            "type": "histogram"
           }
          ],
          "histogram2d": [
           {
            "colorbar": {
             "outlinewidth": 0,
             "ticks": ""
            },
            "colorscale": [
             [
              0,
              "#0d0887"
             ],
             [
              0.1111111111111111,
              "#46039f"
             ],
             [
              0.2222222222222222,
              "#7201a8"
             ],
             [
              0.3333333333333333,
              "#9c179e"
             ],
             [
              0.4444444444444444,
              "#bd3786"
             ],
             [
              0.5555555555555556,
              "#d8576b"
             ],
             [
              0.6666666666666666,
              "#ed7953"
             ],
             [
              0.7777777777777778,
              "#fb9f3a"
             ],
             [
              0.8888888888888888,
              "#fdca26"
             ],
             [
              1,
              "#f0f921"
             ]
            ],
            "type": "histogram2d"
           }
          ],
          "histogram2dcontour": [
           {
            "colorbar": {
             "outlinewidth": 0,
             "ticks": ""
            },
            "colorscale": [
             [
              0,
              "#0d0887"
             ],
             [
              0.1111111111111111,
              "#46039f"
             ],
             [
              0.2222222222222222,
              "#7201a8"
             ],
             [
              0.3333333333333333,
              "#9c179e"
             ],
             [
              0.4444444444444444,
              "#bd3786"
             ],
             [
              0.5555555555555556,
              "#d8576b"
             ],
             [
              0.6666666666666666,
              "#ed7953"
             ],
             [
              0.7777777777777778,
              "#fb9f3a"
             ],
             [
              0.8888888888888888,
              "#fdca26"
             ],
             [
              1,
              "#f0f921"
             ]
            ],
            "type": "histogram2dcontour"
           }
          ],
          "mesh3d": [
           {
            "colorbar": {
             "outlinewidth": 0,
             "ticks": ""
            },
            "type": "mesh3d"
           }
          ],
          "parcoords": [
           {
            "line": {
             "colorbar": {
              "outlinewidth": 0,
              "ticks": ""
             }
            },
            "type": "parcoords"
           }
          ],
          "pie": [
           {
            "automargin": true,
            "type": "pie"
           }
          ],
          "scatter": [
           {
            "marker": {
             "colorbar": {
              "outlinewidth": 0,
              "ticks": ""
             }
            },
            "type": "scatter"
           }
          ],
          "scatter3d": [
           {
            "line": {
             "colorbar": {
              "outlinewidth": 0,
              "ticks": ""
             }
            },
            "marker": {
             "colorbar": {
              "outlinewidth": 0,
              "ticks": ""
             }
            },
            "type": "scatter3d"
           }
          ],
          "scattercarpet": [
           {
            "marker": {
             "colorbar": {
              "outlinewidth": 0,
              "ticks": ""
             }
            },
            "type": "scattercarpet"
           }
          ],
          "scattergeo": [
           {
            "marker": {
             "colorbar": {
              "outlinewidth": 0,
              "ticks": ""
             }
            },
            "type": "scattergeo"
           }
          ],
          "scattergl": [
           {
            "marker": {
             "colorbar": {
              "outlinewidth": 0,
              "ticks": ""
             }
            },
            "type": "scattergl"
           }
          ],
          "scattermapbox": [
           {
            "marker": {
             "colorbar": {
              "outlinewidth": 0,
              "ticks": ""
             }
            },
            "type": "scattermapbox"
           }
          ],
          "scatterpolar": [
           {
            "marker": {
             "colorbar": {
              "outlinewidth": 0,
              "ticks": ""
             }
            },
            "type": "scatterpolar"
           }
          ],
          "scatterpolargl": [
           {
            "marker": {
             "colorbar": {
              "outlinewidth": 0,
              "ticks": ""
             }
            },
            "type": "scatterpolargl"
           }
          ],
          "scatterternary": [
           {
            "marker": {
             "colorbar": {
              "outlinewidth": 0,
              "ticks": ""
             }
            },
            "type": "scatterternary"
           }
          ],
          "surface": [
           {
            "colorbar": {
             "outlinewidth": 0,
             "ticks": ""
            },
            "colorscale": [
             [
              0,
              "#0d0887"
             ],
             [
              0.1111111111111111,
              "#46039f"
             ],
             [
              0.2222222222222222,
              "#7201a8"
             ],
             [
              0.3333333333333333,
              "#9c179e"
             ],
             [
              0.4444444444444444,
              "#bd3786"
             ],
             [
              0.5555555555555556,
              "#d8576b"
             ],
             [
              0.6666666666666666,
              "#ed7953"
             ],
             [
              0.7777777777777778,
              "#fb9f3a"
             ],
             [
              0.8888888888888888,
              "#fdca26"
             ],
             [
              1,
              "#f0f921"
             ]
            ],
            "type": "surface"
           }
          ],
          "table": [
           {
            "cells": {
             "fill": {
              "color": "#EBF0F8"
             },
             "line": {
              "color": "white"
             }
            },
            "header": {
             "fill": {
              "color": "#C8D4E3"
             },
             "line": {
              "color": "white"
             }
            },
            "type": "table"
           }
          ]
         },
         "layout": {
          "annotationdefaults": {
           "arrowcolor": "#2a3f5f",
           "arrowhead": 0,
           "arrowwidth": 1
          },
          "autotypenumbers": "strict",
          "coloraxis": {
           "colorbar": {
            "outlinewidth": 0,
            "ticks": ""
           }
          },
          "colorscale": {
           "diverging": [
            [
             0,
             "#8e0152"
            ],
            [
             0.1,
             "#c51b7d"
            ],
            [
             0.2,
             "#de77ae"
            ],
            [
             0.3,
             "#f1b6da"
            ],
            [
             0.4,
             "#fde0ef"
            ],
            [
             0.5,
             "#f7f7f7"
            ],
            [
             0.6,
             "#e6f5d0"
            ],
            [
             0.7,
             "#b8e186"
            ],
            [
             0.8,
             "#7fbc41"
            ],
            [
             0.9,
             "#4d9221"
            ],
            [
             1,
             "#276419"
            ]
           ],
           "sequential": [
            [
             0,
             "#0d0887"
            ],
            [
             0.1111111111111111,
             "#46039f"
            ],
            [
             0.2222222222222222,
             "#7201a8"
            ],
            [
             0.3333333333333333,
             "#9c179e"
            ],
            [
             0.4444444444444444,
             "#bd3786"
            ],
            [
             0.5555555555555556,
             "#d8576b"
            ],
            [
             0.6666666666666666,
             "#ed7953"
            ],
            [
             0.7777777777777778,
             "#fb9f3a"
            ],
            [
             0.8888888888888888,
             "#fdca26"
            ],
            [
             1,
             "#f0f921"
            ]
           ],
           "sequentialminus": [
            [
             0,
             "#0d0887"
            ],
            [
             0.1111111111111111,
             "#46039f"
            ],
            [
             0.2222222222222222,
             "#7201a8"
            ],
            [
             0.3333333333333333,
             "#9c179e"
            ],
            [
             0.4444444444444444,
             "#bd3786"
            ],
            [
             0.5555555555555556,
             "#d8576b"
            ],
            [
             0.6666666666666666,
             "#ed7953"
            ],
            [
             0.7777777777777778,
             "#fb9f3a"
            ],
            [
             0.8888888888888888,
             "#fdca26"
            ],
            [
             1,
             "#f0f921"
            ]
           ]
          },
          "colorway": [
           "#636efa",
           "#EF553B",
           "#00cc96",
           "#ab63fa",
           "#FFA15A",
           "#19d3f3",
           "#FF6692",
           "#B6E880",
           "#FF97FF",
           "#FECB52"
          ],
          "font": {
           "color": "#2a3f5f"
          },
          "geo": {
           "bgcolor": "white",
           "lakecolor": "white",
           "landcolor": "#E5ECF6",
           "showlakes": true,
           "showland": true,
           "subunitcolor": "white"
          },
          "hoverlabel": {
           "align": "left"
          },
          "hovermode": "closest",
          "mapbox": {
           "style": "light"
          },
          "paper_bgcolor": "white",
          "plot_bgcolor": "#E5ECF6",
          "polar": {
           "angularaxis": {
            "gridcolor": "white",
            "linecolor": "white",
            "ticks": ""
           },
           "bgcolor": "#E5ECF6",
           "radialaxis": {
            "gridcolor": "white",
            "linecolor": "white",
            "ticks": ""
           }
          },
          "scene": {
           "xaxis": {
            "backgroundcolor": "#E5ECF6",
            "gridcolor": "white",
            "gridwidth": 2,
            "linecolor": "white",
            "showbackground": true,
            "ticks": "",
            "zerolinecolor": "white"
           },
           "yaxis": {
            "backgroundcolor": "#E5ECF6",
            "gridcolor": "white",
            "gridwidth": 2,
            "linecolor": "white",
            "showbackground": true,
            "ticks": "",
            "zerolinecolor": "white"
           },
           "zaxis": {
            "backgroundcolor": "#E5ECF6",
            "gridcolor": "white",
            "gridwidth": 2,
            "linecolor": "white",
            "showbackground": true,
            "ticks": "",
            "zerolinecolor": "white"
           }
          },
          "shapedefaults": {
           "line": {
            "color": "#2a3f5f"
           }
          },
          "ternary": {
           "aaxis": {
            "gridcolor": "white",
            "linecolor": "white",
            "ticks": ""
           },
           "baxis": {
            "gridcolor": "white",
            "linecolor": "white",
            "ticks": ""
           },
           "bgcolor": "#E5ECF6",
           "caxis": {
            "gridcolor": "white",
            "linecolor": "white",
            "ticks": ""
           }
          },
          "title": {
           "x": 0.05
          },
          "xaxis": {
           "automargin": true,
           "gridcolor": "white",
           "linecolor": "white",
           "ticks": "",
           "title": {
            "standoff": 15
           },
           "zerolinecolor": "white",
           "zerolinewidth": 2
          },
          "yaxis": {
           "automargin": true,
           "gridcolor": "white",
           "linecolor": "white",
           "ticks": "",
           "title": {
            "standoff": 15
           },
           "zerolinecolor": "white",
           "zerolinewidth": 2
          }
         }
        },
        "title": {
         "text": "Confusion matrix, normalized using method \"true\""
        },
        "xaxis": {
         "dtick": 1,
         "gridcolor": "rgb(0, 0, 0)",
         "side": "bottom",
         "ticks": "",
         "tickvals": [
          0,
          1
         ],
         "title": {
          "text": "Predicted Label"
         },
         "type": "category"
        },
        "yaxis": {
         "autorange": "reversed",
         "dtick": 1,
         "ticks": "",
         "ticksuffix": "  ",
         "tickvals": [
          0,
          1
         ],
         "title": {
          "text": "True Label"
         },
         "type": "category"
        }
       }
      },
      "text/html": [
       "<div>                            <div id=\"7829545e-07de-4d1a-bc2b-10b4e8fe2e46\" class=\"plotly-graph-div\" style=\"height:525px; width:100%;\"></div>            <script type=\"text/javascript\">                require([\"plotly\"], function(Plotly) {                    window.PLOTLYENV=window.PLOTLYENV || {};                                    if (document.getElementById(\"7829545e-07de-4d1a-bc2b-10b4e8fe2e46\")) {                    Plotly.newPlot(                        \"7829545e-07de-4d1a-bc2b-10b4e8fe2e46\",                        [{\"colorscale\": [[0.0, \"rgb(247,251,255)\"], [0.125, \"rgb(222,235,247)\"], [0.25, \"rgb(198,219,239)\"], [0.375, \"rgb(158,202,225)\"], [0.5, \"rgb(107,174,214)\"], [0.625, \"rgb(66,146,198)\"], [0.75, \"rgb(33,113,181)\"], [0.875, \"rgb(8,81,156)\"], [1.0, \"rgb(8,48,107)\"]], \"customdata\": [[6742, 518], [118, 91]], \"hovertemplate\": \"<b>True</b>: %{y}<br><b>Predicted</b>: %{x}<br><b>Normalized Count</b>: %{z}<br><b>Raw Count</b>: %{customdata} <br><extra></extra>\", \"reversescale\": false, \"showscale\": true, \"type\": \"heatmap\", \"x\": [0, 1], \"y\": [0, 1], \"z\": [[0.9286501377410469, 0.07134986225895316], [0.5645933014354066, 0.4354066985645933]]}],                        {\"annotations\": [{\"font\": {\"color\": \"#FFFFFF\"}, \"showarrow\": false, \"text\": \"0.929\", \"x\": 0, \"xref\": \"x\", \"y\": 0, \"yref\": \"y\"}, {\"font\": {\"color\": \"#000000\"}, \"showarrow\": false, \"text\": \"0.071\", \"x\": 1, \"xref\": \"x\", \"y\": 0, \"yref\": \"y\"}, {\"font\": {\"color\": \"#FFFFFF\"}, \"showarrow\": false, \"text\": \"0.565\", \"x\": 0, \"xref\": \"x\", \"y\": 1, \"yref\": \"y\"}, {\"font\": {\"color\": \"#000000\"}, \"showarrow\": false, \"text\": \"0.435\", \"x\": 1, \"xref\": \"x\", \"y\": 1, \"yref\": \"y\"}], \"template\": {\"data\": {\"bar\": [{\"error_x\": {\"color\": \"#2a3f5f\"}, \"error_y\": {\"color\": \"#2a3f5f\"}, \"marker\": {\"line\": {\"color\": \"#E5ECF6\", \"width\": 0.5}}, \"type\": \"bar\"}], \"barpolar\": [{\"marker\": {\"line\": {\"color\": \"#E5ECF6\", \"width\": 0.5}}, \"type\": \"barpolar\"}], \"carpet\": [{\"aaxis\": {\"endlinecolor\": \"#2a3f5f\", \"gridcolor\": \"white\", \"linecolor\": \"white\", \"minorgridcolor\": \"white\", \"startlinecolor\": \"#2a3f5f\"}, \"baxis\": {\"endlinecolor\": \"#2a3f5f\", \"gridcolor\": \"white\", \"linecolor\": \"white\", \"minorgridcolor\": \"white\", \"startlinecolor\": \"#2a3f5f\"}, \"type\": \"carpet\"}], \"choropleth\": [{\"colorbar\": {\"outlinewidth\": 0, \"ticks\": \"\"}, \"type\": \"choropleth\"}], \"contour\": [{\"colorbar\": {\"outlinewidth\": 0, \"ticks\": \"\"}, \"colorscale\": [[0.0, \"#0d0887\"], [0.1111111111111111, \"#46039f\"], [0.2222222222222222, \"#7201a8\"], [0.3333333333333333, \"#9c179e\"], [0.4444444444444444, \"#bd3786\"], [0.5555555555555556, \"#d8576b\"], [0.6666666666666666, \"#ed7953\"], [0.7777777777777778, \"#fb9f3a\"], [0.8888888888888888, \"#fdca26\"], [1.0, \"#f0f921\"]], \"type\": \"contour\"}], \"contourcarpet\": [{\"colorbar\": {\"outlinewidth\": 0, \"ticks\": \"\"}, \"type\": \"contourcarpet\"}], \"heatmap\": [{\"colorbar\": {\"outlinewidth\": 0, \"ticks\": \"\"}, \"colorscale\": [[0.0, \"#0d0887\"], [0.1111111111111111, \"#46039f\"], [0.2222222222222222, \"#7201a8\"], [0.3333333333333333, \"#9c179e\"], [0.4444444444444444, \"#bd3786\"], [0.5555555555555556, \"#d8576b\"], [0.6666666666666666, \"#ed7953\"], [0.7777777777777778, \"#fb9f3a\"], [0.8888888888888888, \"#fdca26\"], [1.0, \"#f0f921\"]], \"type\": \"heatmap\"}], \"heatmapgl\": [{\"colorbar\": {\"outlinewidth\": 0, \"ticks\": \"\"}, \"colorscale\": [[0.0, \"#0d0887\"], [0.1111111111111111, \"#46039f\"], [0.2222222222222222, \"#7201a8\"], [0.3333333333333333, \"#9c179e\"], [0.4444444444444444, \"#bd3786\"], [0.5555555555555556, \"#d8576b\"], [0.6666666666666666, \"#ed7953\"], [0.7777777777777778, \"#fb9f3a\"], [0.8888888888888888, \"#fdca26\"], [1.0, \"#f0f921\"]], \"type\": \"heatmapgl\"}], \"histogram\": [{\"marker\": {\"colorbar\": {\"outlinewidth\": 0, \"ticks\": \"\"}}, \"type\": \"histogram\"}], \"histogram2d\": [{\"colorbar\": {\"outlinewidth\": 0, \"ticks\": \"\"}, \"colorscale\": [[0.0, \"#0d0887\"], [0.1111111111111111, \"#46039f\"], [0.2222222222222222, \"#7201a8\"], [0.3333333333333333, \"#9c179e\"], [0.4444444444444444, \"#bd3786\"], [0.5555555555555556, \"#d8576b\"], [0.6666666666666666, \"#ed7953\"], [0.7777777777777778, \"#fb9f3a\"], [0.8888888888888888, \"#fdca26\"], [1.0, \"#f0f921\"]], \"type\": \"histogram2d\"}], \"histogram2dcontour\": [{\"colorbar\": {\"outlinewidth\": 0, \"ticks\": \"\"}, \"colorscale\": [[0.0, \"#0d0887\"], [0.1111111111111111, \"#46039f\"], [0.2222222222222222, \"#7201a8\"], [0.3333333333333333, \"#9c179e\"], [0.4444444444444444, \"#bd3786\"], [0.5555555555555556, \"#d8576b\"], [0.6666666666666666, \"#ed7953\"], [0.7777777777777778, \"#fb9f3a\"], [0.8888888888888888, \"#fdca26\"], [1.0, \"#f0f921\"]], \"type\": \"histogram2dcontour\"}], \"mesh3d\": [{\"colorbar\": {\"outlinewidth\": 0, \"ticks\": \"\"}, \"type\": \"mesh3d\"}], \"parcoords\": [{\"line\": {\"colorbar\": {\"outlinewidth\": 0, \"ticks\": \"\"}}, \"type\": \"parcoords\"}], \"pie\": [{\"automargin\": true, \"type\": \"pie\"}], \"scatter\": [{\"marker\": {\"colorbar\": {\"outlinewidth\": 0, \"ticks\": \"\"}}, \"type\": \"scatter\"}], \"scatter3d\": [{\"line\": {\"colorbar\": {\"outlinewidth\": 0, \"ticks\": \"\"}}, \"marker\": {\"colorbar\": {\"outlinewidth\": 0, \"ticks\": \"\"}}, \"type\": \"scatter3d\"}], \"scattercarpet\": [{\"marker\": {\"colorbar\": {\"outlinewidth\": 0, \"ticks\": \"\"}}, \"type\": \"scattercarpet\"}], \"scattergeo\": [{\"marker\": {\"colorbar\": {\"outlinewidth\": 0, \"ticks\": \"\"}}, \"type\": \"scattergeo\"}], \"scattergl\": [{\"marker\": {\"colorbar\": {\"outlinewidth\": 0, \"ticks\": \"\"}}, \"type\": \"scattergl\"}], \"scattermapbox\": [{\"marker\": {\"colorbar\": {\"outlinewidth\": 0, \"ticks\": \"\"}}, \"type\": \"scattermapbox\"}], \"scatterpolar\": [{\"marker\": {\"colorbar\": {\"outlinewidth\": 0, \"ticks\": \"\"}}, \"type\": \"scatterpolar\"}], \"scatterpolargl\": [{\"marker\": {\"colorbar\": {\"outlinewidth\": 0, \"ticks\": \"\"}}, \"type\": \"scatterpolargl\"}], \"scatterternary\": [{\"marker\": {\"colorbar\": {\"outlinewidth\": 0, \"ticks\": \"\"}}, \"type\": \"scatterternary\"}], \"surface\": [{\"colorbar\": {\"outlinewidth\": 0, \"ticks\": \"\"}, \"colorscale\": [[0.0, \"#0d0887\"], [0.1111111111111111, \"#46039f\"], [0.2222222222222222, \"#7201a8\"], [0.3333333333333333, \"#9c179e\"], [0.4444444444444444, \"#bd3786\"], [0.5555555555555556, \"#d8576b\"], [0.6666666666666666, \"#ed7953\"], [0.7777777777777778, \"#fb9f3a\"], [0.8888888888888888, \"#fdca26\"], [1.0, \"#f0f921\"]], \"type\": \"surface\"}], \"table\": [{\"cells\": {\"fill\": {\"color\": \"#EBF0F8\"}, \"line\": {\"color\": \"white\"}}, \"header\": {\"fill\": {\"color\": \"#C8D4E3\"}, \"line\": {\"color\": \"white\"}}, \"type\": \"table\"}]}, \"layout\": {\"annotationdefaults\": {\"arrowcolor\": \"#2a3f5f\", \"arrowhead\": 0, \"arrowwidth\": 1}, \"autotypenumbers\": \"strict\", \"coloraxis\": {\"colorbar\": {\"outlinewidth\": 0, \"ticks\": \"\"}}, \"colorscale\": {\"diverging\": [[0, \"#8e0152\"], [0.1, \"#c51b7d\"], [0.2, \"#de77ae\"], [0.3, \"#f1b6da\"], [0.4, \"#fde0ef\"], [0.5, \"#f7f7f7\"], [0.6, \"#e6f5d0\"], [0.7, \"#b8e186\"], [0.8, \"#7fbc41\"], [0.9, \"#4d9221\"], [1, \"#276419\"]], \"sequential\": [[0.0, \"#0d0887\"], [0.1111111111111111, \"#46039f\"], [0.2222222222222222, \"#7201a8\"], [0.3333333333333333, \"#9c179e\"], [0.4444444444444444, \"#bd3786\"], [0.5555555555555556, \"#d8576b\"], [0.6666666666666666, \"#ed7953\"], [0.7777777777777778, \"#fb9f3a\"], [0.8888888888888888, \"#fdca26\"], [1.0, \"#f0f921\"]], \"sequentialminus\": [[0.0, \"#0d0887\"], [0.1111111111111111, \"#46039f\"], [0.2222222222222222, \"#7201a8\"], [0.3333333333333333, \"#9c179e\"], [0.4444444444444444, \"#bd3786\"], [0.5555555555555556, \"#d8576b\"], [0.6666666666666666, \"#ed7953\"], [0.7777777777777778, \"#fb9f3a\"], [0.8888888888888888, \"#fdca26\"], [1.0, \"#f0f921\"]]}, \"colorway\": [\"#636efa\", \"#EF553B\", \"#00cc96\", \"#ab63fa\", \"#FFA15A\", \"#19d3f3\", \"#FF6692\", \"#B6E880\", \"#FF97FF\", \"#FECB52\"], \"font\": {\"color\": \"#2a3f5f\"}, \"geo\": {\"bgcolor\": \"white\", \"lakecolor\": \"white\", \"landcolor\": \"#E5ECF6\", \"showlakes\": true, \"showland\": true, \"subunitcolor\": \"white\"}, \"hoverlabel\": {\"align\": \"left\"}, \"hovermode\": \"closest\", \"mapbox\": {\"style\": \"light\"}, \"paper_bgcolor\": \"white\", \"plot_bgcolor\": \"#E5ECF6\", \"polar\": {\"angularaxis\": {\"gridcolor\": \"white\", \"linecolor\": \"white\", \"ticks\": \"\"}, \"bgcolor\": \"#E5ECF6\", \"radialaxis\": {\"gridcolor\": \"white\", \"linecolor\": \"white\", \"ticks\": \"\"}}, \"scene\": {\"xaxis\": {\"backgroundcolor\": \"#E5ECF6\", \"gridcolor\": \"white\", \"gridwidth\": 2, \"linecolor\": \"white\", \"showbackground\": true, \"ticks\": \"\", \"zerolinecolor\": \"white\"}, \"yaxis\": {\"backgroundcolor\": \"#E5ECF6\", \"gridcolor\": \"white\", \"gridwidth\": 2, \"linecolor\": \"white\", \"showbackground\": true, \"ticks\": \"\", \"zerolinecolor\": \"white\"}, \"zaxis\": {\"backgroundcolor\": \"#E5ECF6\", \"gridcolor\": \"white\", \"gridwidth\": 2, \"linecolor\": \"white\", \"showbackground\": true, \"ticks\": \"\", \"zerolinecolor\": \"white\"}}, \"shapedefaults\": {\"line\": {\"color\": \"#2a3f5f\"}}, \"ternary\": {\"aaxis\": {\"gridcolor\": \"white\", \"linecolor\": \"white\", \"ticks\": \"\"}, \"baxis\": {\"gridcolor\": \"white\", \"linecolor\": \"white\", \"ticks\": \"\"}, \"bgcolor\": \"#E5ECF6\", \"caxis\": {\"gridcolor\": \"white\", \"linecolor\": \"white\", \"ticks\": \"\"}}, \"title\": {\"x\": 0.05}, \"xaxis\": {\"automargin\": true, \"gridcolor\": \"white\", \"linecolor\": \"white\", \"ticks\": \"\", \"title\": {\"standoff\": 15}, \"zerolinecolor\": \"white\", \"zerolinewidth\": 2}, \"yaxis\": {\"automargin\": true, \"gridcolor\": \"white\", \"linecolor\": \"white\", \"ticks\": \"\", \"title\": {\"standoff\": 15}, \"zerolinecolor\": \"white\", \"zerolinewidth\": 2}}}, \"title\": {\"text\": \"Confusion matrix, normalized using method \\\"true\\\"\"}, \"xaxis\": {\"dtick\": 1, \"gridcolor\": \"rgb(0, 0, 0)\", \"side\": \"bottom\", \"ticks\": \"\", \"tickvals\": [0, 1], \"title\": {\"text\": \"Predicted Label\"}, \"type\": \"category\"}, \"yaxis\": {\"autorange\": \"reversed\", \"dtick\": 1, \"ticks\": \"\", \"ticksuffix\": \"  \", \"tickvals\": [0, 1], \"title\": {\"text\": \"True Label\"}, \"type\": \"category\"}},                        {\"responsive\": true}                    ).then(function(){\n",
       "                            \n",
       "var gd = document.getElementById('7829545e-07de-4d1a-bc2b-10b4e8fe2e46');\n",
       "var x = new MutationObserver(function (mutations, observer) {{\n",
       "        var display = window.getComputedStyle(gd).display;\n",
       "        if (!display || display === 'none') {{\n",
       "            console.log([gd, 'removed!']);\n",
       "            Plotly.purge(gd);\n",
       "            observer.disconnect();\n",
       "        }}\n",
       "}});\n",
       "\n",
       "// Listen for the removal of the full notebook cells\n",
       "var notebookContainer = gd.closest('#notebook-container');\n",
       "if (notebookContainer) {{\n",
       "    x.observe(notebookContainer, {childList: true});\n",
       "}}\n",
       "\n",
       "// Listen for the clearing of the current output cell\n",
       "var outputEl = gd.closest('.output');\n",
       "if (outputEl) {{\n",
       "    x.observe(outputEl, {childList: true});\n",
       "}}\n",
       "\n",
       "                        })                };                });            </script>        </div>"
      ]
     },
     "metadata": {},
     "output_type": "display_data"
    }
   ],
   "source": [
    "graph_confusion_matrix(y_test, predictions)"
   ]
  },
  {
   "cell_type": "code",
   "execution_count": null,
   "metadata": {},
   "outputs": [],
   "source": []
  }
 ],
 "metadata": {
  "kernelspec": {
   "display_name": "Python 3",
   "language": "python",
   "name": "python3"
  },
  "language_info": {
   "codemirror_mode": {
    "name": "ipython",
    "version": 3
   },
   "file_extension": ".py",
   "mimetype": "text/x-python",
   "name": "python",
   "nbconvert_exporter": "python",
   "pygments_lexer": "ipython3",
   "version": "3.8.5"
  }
 },
 "nbformat": 4,
 "nbformat_minor": 4
}
