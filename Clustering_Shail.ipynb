{
 "cells": [
  {
   "cell_type": "code",
   "execution_count": 44,
   "id": "synthetic-quality",
   "metadata": {},
   "outputs": [],
   "source": [
    "import numpy as np\n",
    "import pandas as pd"
   ]
  },
  {
   "cell_type": "code",
   "execution_count": 45,
   "id": "weighted-eclipse",
   "metadata": {},
   "outputs": [],
   "source": [
    "ca = pd.read_csv('data/CA.csv')"
   ]
  },
  {
   "cell_type": "code",
   "execution_count": 46,
   "id": "mediterranean-recovery",
   "metadata": {},
   "outputs": [],
   "source": [
    "pers_demo_cols = ['DEM_GENDER', 'DEM_AGE', 'DEM_STDNT', 'DEM_VET', 'DEM_HEALTH', 'DEM_REGION',\n",
    "                 'DEM_MARITAL', 'DEM_INCOME', 'DEM_EDU']"
   ]
  },
  {
   "cell_type": "code",
   "execution_count": 47,
   "id": "crazy-panel",
   "metadata": {},
   "outputs": [
    {
     "data": {
      "text/html": [
       "<div>\n",
       "<style scoped>\n",
       "    .dataframe tbody tr th:only-of-type {\n",
       "        vertical-align: middle;\n",
       "    }\n",
       "\n",
       "    .dataframe tbody tr th {\n",
       "        vertical-align: top;\n",
       "    }\n",
       "\n",
       "    .dataframe thead th {\n",
       "        text-align: right;\n",
       "    }\n",
       "</style>\n",
       "<table border=\"1\" class=\"dataframe\">\n",
       "  <thead>\n",
       "    <tr style=\"text-align: right;\">\n",
       "      <th></th>\n",
       "      <th>DEM_GENDER</th>\n",
       "      <th>DEM_AGE</th>\n",
       "      <th>DEM_STDNT</th>\n",
       "      <th>DEM_VET</th>\n",
       "      <th>DEM_HEALTH</th>\n",
       "      <th>DEM_REGION</th>\n",
       "      <th>DEM_MARITAL</th>\n",
       "      <th>DEM_INCOME</th>\n",
       "      <th>DEM_EDU</th>\n",
       "    </tr>\n",
       "  </thead>\n",
       "  <tbody>\n",
       "    <tr>\n",
       "      <th>0</th>\n",
       "      <td>1</td>\n",
       "      <td>18</td>\n",
       "      <td>0</td>\n",
       "      <td>0</td>\n",
       "      <td>0</td>\n",
       "      <td>1</td>\n",
       "      <td>6</td>\n",
       "      <td>10</td>\n",
       "      <td>1</td>\n",
       "    </tr>\n",
       "    <tr>\n",
       "      <th>1</th>\n",
       "      <td>1</td>\n",
       "      <td>18</td>\n",
       "      <td>1</td>\n",
       "      <td>0</td>\n",
       "      <td>0</td>\n",
       "      <td>1</td>\n",
       "      <td>6</td>\n",
       "      <td>10</td>\n",
       "      <td>2</td>\n",
       "    </tr>\n",
       "    <tr>\n",
       "      <th>2</th>\n",
       "      <td>1</td>\n",
       "      <td>24</td>\n",
       "      <td>0</td>\n",
       "      <td>0</td>\n",
       "      <td>0</td>\n",
       "      <td>1</td>\n",
       "      <td>6</td>\n",
       "      <td>1</td>\n",
       "      <td>7</td>\n",
       "    </tr>\n",
       "    <tr>\n",
       "      <th>3</th>\n",
       "      <td>1</td>\n",
       "      <td>16</td>\n",
       "      <td>1</td>\n",
       "      <td>0</td>\n",
       "      <td>0</td>\n",
       "      <td>1</td>\n",
       "      <td>6</td>\n",
       "      <td>10</td>\n",
       "      <td>7</td>\n",
       "    </tr>\n",
       "    <tr>\n",
       "      <th>4</th>\n",
       "      <td>1</td>\n",
       "      <td>21</td>\n",
       "      <td>1</td>\n",
       "      <td>0</td>\n",
       "      <td>0</td>\n",
       "      <td>1</td>\n",
       "      <td>6</td>\n",
       "      <td>4</td>\n",
       "      <td>2</td>\n",
       "    </tr>\n",
       "    <tr>\n",
       "      <th>...</th>\n",
       "      <td>...</td>\n",
       "      <td>...</td>\n",
       "      <td>...</td>\n",
       "      <td>...</td>\n",
       "      <td>...</td>\n",
       "      <td>...</td>\n",
       "      <td>...</td>\n",
       "      <td>...</td>\n",
       "      <td>...</td>\n",
       "    </tr>\n",
       "    <tr>\n",
       "      <th>10002</th>\n",
       "      <td>2</td>\n",
       "      <td>73</td>\n",
       "      <td>0</td>\n",
       "      <td>0</td>\n",
       "      <td>0</td>\n",
       "      <td>4</td>\n",
       "      <td>1</td>\n",
       "      <td>10</td>\n",
       "      <td>4</td>\n",
       "    </tr>\n",
       "    <tr>\n",
       "      <th>10003</th>\n",
       "      <td>2</td>\n",
       "      <td>89</td>\n",
       "      <td>0</td>\n",
       "      <td>0</td>\n",
       "      <td>0</td>\n",
       "      <td>4</td>\n",
       "      <td>3</td>\n",
       "      <td>3</td>\n",
       "      <td>2</td>\n",
       "    </tr>\n",
       "    <tr>\n",
       "      <th>10004</th>\n",
       "      <td>2</td>\n",
       "      <td>69</td>\n",
       "      <td>0</td>\n",
       "      <td>0</td>\n",
       "      <td>0</td>\n",
       "      <td>4</td>\n",
       "      <td>1</td>\n",
       "      <td>2</td>\n",
       "      <td>5</td>\n",
       "    </tr>\n",
       "    <tr>\n",
       "      <th>10005</th>\n",
       "      <td>2</td>\n",
       "      <td>72</td>\n",
       "      <td>0</td>\n",
       "      <td>0</td>\n",
       "      <td>0</td>\n",
       "      <td>4</td>\n",
       "      <td>3</td>\n",
       "      <td>2</td>\n",
       "      <td>2</td>\n",
       "    </tr>\n",
       "    <tr>\n",
       "      <th>10006</th>\n",
       "      <td>2</td>\n",
       "      <td>71</td>\n",
       "      <td>0</td>\n",
       "      <td>0</td>\n",
       "      <td>0</td>\n",
       "      <td>4</td>\n",
       "      <td>1</td>\n",
       "      <td>3</td>\n",
       "      <td>4</td>\n",
       "    </tr>\n",
       "  </tbody>\n",
       "</table>\n",
       "<p>10007 rows × 9 columns</p>\n",
       "</div>"
      ],
      "text/plain": [
       "       DEM_GENDER  DEM_AGE  DEM_STDNT  DEM_VET  DEM_HEALTH  DEM_REGION  \\\n",
       "0               1       18          0        0           0           1   \n",
       "1               1       18          1        0           0           1   \n",
       "2               1       24          0        0           0           1   \n",
       "3               1       16          1        0           0           1   \n",
       "4               1       21          1        0           0           1   \n",
       "...           ...      ...        ...      ...         ...         ...   \n",
       "10002           2       73          0        0           0           4   \n",
       "10003           2       89          0        0           0           4   \n",
       "10004           2       69          0        0           0           4   \n",
       "10005           2       72          0        0           0           4   \n",
       "10006           2       71          0        0           0           4   \n",
       "\n",
       "       DEM_MARITAL  DEM_INCOME  DEM_EDU  \n",
       "0                6          10        1  \n",
       "1                6          10        2  \n",
       "2                6           1        7  \n",
       "3                6          10        7  \n",
       "4                6           4        2  \n",
       "...            ...         ...      ...  \n",
       "10002            1          10        4  \n",
       "10003            3           3        2  \n",
       "10004            1           2        5  \n",
       "10005            3           2        2  \n",
       "10006            1           3        4  \n",
       "\n",
       "[10007 rows x 9 columns]"
      ]
     },
     "execution_count": 47,
     "metadata": {},
     "output_type": "execute_result"
    }
   ],
   "source": [
    "# need to process these columns so they are one hot encoded or in order if possible \n",
    "ca[pers_demo_cols]"
   ]
  },
  {
   "cell_type": "code",
   "execution_count": 48,
   "id": "present-arthur",
   "metadata": {},
   "outputs": [],
   "source": [
    "drugs = ['OP', 'STIM', \"BENZ\"]\n",
    "\n",
    "non_medical_drugs_use = [drug + '_NMU_EVER' for drug in drugs] + ['ILL_USE']\n",
    "non_medical_drugs_use_recent = [drug + '_NMU_NTY' for drug in drugs] + ['ILL_MNTH'] \n",
    "drug_use = [drug + '_USE' for drug in drugs]"
   ]
  },
  {
   "cell_type": "code",
   "execution_count": 49,
   "id": "critical-raise",
   "metadata": {},
   "outputs": [
    {
     "data": {
      "text/plain": [
       "OP_NMU_EVER      0.298691\n",
       "STIM_NMU_EVER    0.016189\n",
       "BENZ_NMU_EVER    0.018687\n",
       "ILL_USE          0.394224\n",
       "dtype: float64"
      ]
     },
     "execution_count": 49,
     "metadata": {},
     "output_type": "execute_result"
    }
   ],
   "source": [
    "ca[non_medical_drugs_use].mean() # opiod and illicit drugs are the most popular "
   ]
  },
  {
   "cell_type": "code",
   "execution_count": 50,
   "id": "dutch-machinery",
   "metadata": {},
   "outputs": [
    {
     "data": {
      "text/plain": [
       "OP_NMU_NTY      0.053263\n",
       "STIM_NMU_NTY    0.001599\n",
       "BENZ_NMU_NTY    0.003597\n",
       "ILL_MNTH        0.118517\n",
       "dtype: float64"
      ]
     },
     "execution_count": 50,
     "metadata": {},
     "output_type": "execute_result"
    }
   ],
   "source": [
    "ca[non_medical_drugs_use_recent].mean()"
   ]
  },
  {
   "cell_type": "code",
   "execution_count": 51,
   "id": "hidden-convertible",
   "metadata": {},
   "outputs": [],
   "source": [
    "drug_use_df = ca[non_medical_drugs_use + drug_use]\n",
    "# I want to find the percentage of people who have used opiods \n",
    "\n",
    "opoid_df = drug_use_df[drug_use_df['OP_USE'] == 1]"
   ]
  },
  {
   "cell_type": "code",
   "execution_count": 52,
   "id": "assured-brown",
   "metadata": {},
   "outputs": [
    {
     "data": {
      "text/plain": [
       "OP_NMU_EVER      0.388687\n",
       "STIM_NMU_EVER    0.019246\n",
       "BENZ_NMU_EVER    0.022367\n",
       "ILL_USE          0.425488\n",
       "OP_USE           1.000000\n",
       "STIM_USE         0.055917\n",
       "BENZ_USE         0.234460\n",
       "dtype: float64"
      ]
     },
     "execution_count": 52,
     "metadata": {},
     "output_type": "execute_result"
    }
   ],
   "source": [
    "opoid_df.mean() # 38% people who have used opoids have done so for non-medical use "
   ]
  },
  {
   "cell_type": "code",
   "execution_count": 53,
   "id": "opened-accused",
   "metadata": {},
   "outputs": [
    {
     "name": "stdout",
     "output_type": "stream",
     "text": [
      "       OP_NMU_NTY  OP_USE  PAIN_CHRONIC_RX  PAIN_ACUTE_RX\n",
      "0               0       1              NaN            NaN\n",
      "1               0       0              NaN            NaN\n",
      "2               0       1              NaN            NaN\n",
      "3               0       0              NaN            NaN\n",
      "4               0       1              NaN            NaN\n",
      "...           ...     ...              ...            ...\n",
      "10002           0       1              1.0            NaN\n",
      "10003           0       1              NaN            NaN\n",
      "10004           0       0              1.0            NaN\n",
      "10005           0       0              1.0            1.0\n",
      "10006           0       1              5.0            5.0\n",
      "\n",
      "[10007 rows x 4 columns]\n"
     ]
    },
    {
     "name": "stderr",
     "output_type": "stream",
     "text": [
      "<ipython-input-53-976564296432>:10: SettingWithCopyWarning: \n",
      "A value is trying to be set on a copy of a slice from a DataFrame.\n",
      "Try using .loc[row_indexer,col_indexer] = value instead\n",
      "\n",
      "See the caveats in the documentation: https://pandas.pydata.org/pandas-docs/stable/user_guide/indexing.html#returning-a-view-versus-a-copy\n",
      "  perscribed['PAIN_CHRONIC_RX'] = perscribed['PAIN_CHRONIC_RX'].apply(lambda x: maps(x))\n",
      "<ipython-input-53-976564296432>:11: SettingWithCopyWarning: \n",
      "A value is trying to be set on a copy of a slice from a DataFrame.\n",
      "Try using .loc[row_indexer,col_indexer] = value instead\n",
      "\n",
      "See the caveats in the documentation: https://pandas.pydata.org/pandas-docs/stable/user_guide/indexing.html#returning-a-view-versus-a-copy\n",
      "  perscribed['PAIN_ACUTE_RX'] = perscribed['PAIN_ACUTE_RX'].apply(lambda x: maps(x))\n"
     ]
    }
   ],
   "source": [
    "perscribed = ca[['OP_NMU_NTY', 'OP_USE', 'PAIN_CHRONIC_RX', 'PAIN_ACUTE_RX']]\n",
    "print(perscribed)\n",
    "def maps(pers):\n",
    "    if pers == 1:\n",
    "        return \"No\"\n",
    "    elif pers in [2,3,4,5]:\n",
    "        return \"Yes\"\n",
    "    else:\n",
    "        return \"N/A\"\n",
    "perscribed['PAIN_CHRONIC_RX'] = perscribed['PAIN_CHRONIC_RX'].apply(lambda x: maps(x))\n",
    "perscribed['PAIN_ACUTE_RX'] = perscribed['PAIN_ACUTE_RX'].apply(lambda x: maps(x))"
   ]
  },
  {
   "cell_type": "code",
   "execution_count": 54,
   "id": "documentary-granny",
   "metadata": {},
   "outputs": [
    {
     "data": {
      "text/plain": [
       "PAIN_ACUTE_RX\n",
       "N/A    0.051116\n",
       "No     0.041393\n",
       "Yes    0.071287\n",
       "Name: OP_NMU_NTY, dtype: float64"
      ]
     },
     "execution_count": 54,
     "metadata": {},
     "output_type": "execute_result"
    }
   ],
   "source": [
    "perscribed.groupby('PAIN_CHRONIC_RX')['OP_NMU_NTY'].mean() \n",
    "\n",
    "perscribed.groupby('PAIN_ACUTE_RX')['OP_NMU_NTY'].mean() \n",
    "\n",
    "# those perscribed with opoids for chronic/acute pain are more likely to have used it for non-medical use later in their life"
   ]
  },
  {
   "cell_type": "code",
   "execution_count": 55,
   "id": "asian-gasoline",
   "metadata": {},
   "outputs": [],
   "source": [
    "# Some ideas:\n",
    "\n",
    "# is medical use of a drug likley to lead to non-medical use of it \n",
    "# how does certain mental health conditions lead to particular drug uses "
   ]
  },
  {
   "cell_type": "code",
   "execution_count": 56,
   "id": "remarkable-orlando",
   "metadata": {},
   "outputs": [
    {
     "name": "stderr",
     "output_type": "stream",
     "text": [
      "<ipython-input-56-c4f197917f73>:2: SettingWithCopyWarning: \n",
      "A value is trying to be set on a copy of a slice from a DataFrame.\n",
      "Try using .loc[row_indexer,col_indexer] = value instead\n",
      "\n",
      "See the caveats in the documentation: https://pandas.pydata.org/pandas-docs/stable/user_guide/indexing.html#returning-a-view-versus-a-copy\n",
      "  person['DEM_GENDER'] -= 1 # change to binary if the person is a\n"
     ]
    }
   ],
   "source": [
    "person = ca[pers_demo_cols]\n",
    "person['DEM_GENDER'] -= 1 # change to binary if the person is a "
   ]
  },
  {
   "cell_type": "code",
   "execution_count": 57,
   "id": "promotional-harvey",
   "metadata": {},
   "outputs": [],
   "source": [
    "locations  = {1: 'Atlantic', 2: 'Québec', 3:'Ontario', 4:'West'}"
   ]
  },
  {
   "cell_type": "code",
   "execution_count": 58,
   "id": "cooked-hartford",
   "metadata": {},
   "outputs": [
    {
     "name": "stderr",
     "output_type": "stream",
     "text": [
      "<ipython-input-58-96757020262e>:1: SettingWithCopyWarning: \n",
      "A value is trying to be set on a copy of a slice from a DataFrame.\n",
      "Try using .loc[row_indexer,col_indexer] = value instead\n",
      "\n",
      "See the caveats in the documentation: https://pandas.pydata.org/pandas-docs/stable/user_guide/indexing.html#returning-a-view-versus-a-copy\n",
      "  person['DEM_REGION'] = person['DEM_REGION'].apply(lambda x: locations[x])\n",
      "/Users/shailmirpuri/opt/anaconda3/lib/python3.8/site-packages/pandas/core/frame.py:4308: SettingWithCopyWarning: \n",
      "A value is trying to be set on a copy of a slice from a DataFrame\n",
      "\n",
      "See the caveats in the documentation: https://pandas.pydata.org/pandas-docs/stable/user_guide/indexing.html#returning-a-view-versus-a-copy\n",
      "  return super().drop(\n"
     ]
    }
   ],
   "source": [
    "person['DEM_REGION'] = person['DEM_REGION'].apply(lambda x: locations[x])\n",
    "person.drop(columns = ['DEM_REGION'], inplace = True)"
   ]
  },
  {
   "cell_type": "code",
   "execution_count": 59,
   "id": "local-ridge",
   "metadata": {},
   "outputs": [
    {
     "data": {
      "text/plain": [
       "1    4545\n",
       "6    2331\n",
       "2    1523\n",
       "5     885\n",
       "3     431\n",
       "4     292\n",
       "Name: DEM_MARITAL, dtype: int64"
      ]
     },
     "execution_count": 59,
     "metadata": {},
     "output_type": "execute_result"
    }
   ],
   "source": [
    "person['DEM_MARITAL'].value_counts() # filter out to include only single and married "
   ]
  },
  {
   "cell_type": "code",
   "execution_count": 60,
   "id": "illegal-newcastle",
   "metadata": {},
   "outputs": [],
   "source": [
    "person = person[(person['DEM_MARITAL'] == 1) | (person['DEM_MARITAL'] == 6)]"
   ]
  },
  {
   "cell_type": "code",
   "execution_count": 61,
   "id": "rotary-state",
   "metadata": {},
   "outputs": [],
   "source": [
    "single  = {1: 0, 6: 1}\n",
    "person['DEM_MARITAL'] = person['DEM_MARITAL'].apply(lambda x: single[x])"
   ]
  },
  {
   "cell_type": "code",
   "execution_count": 62,
   "id": "basic-transition",
   "metadata": {},
   "outputs": [],
   "source": [
    "person = person[person['DEM_INCOME'] != 10]"
   ]
  },
  {
   "cell_type": "code",
   "execution_count": 63,
   "id": "handled-collect",
   "metadata": {},
   "outputs": [
    {
     "data": {
      "text/html": [
       "<div>\n",
       "<style scoped>\n",
       "    .dataframe tbody tr th:only-of-type {\n",
       "        vertical-align: middle;\n",
       "    }\n",
       "\n",
       "    .dataframe tbody tr th {\n",
       "        vertical-align: top;\n",
       "    }\n",
       "\n",
       "    .dataframe thead th {\n",
       "        text-align: right;\n",
       "    }\n",
       "</style>\n",
       "<table border=\"1\" class=\"dataframe\">\n",
       "  <thead>\n",
       "    <tr style=\"text-align: right;\">\n",
       "      <th></th>\n",
       "      <th>DEM_GENDER</th>\n",
       "      <th>DEM_AGE</th>\n",
       "      <th>DEM_STDNT</th>\n",
       "      <th>DEM_VET</th>\n",
       "      <th>DEM_HEALTH</th>\n",
       "      <th>DEM_MARITAL</th>\n",
       "      <th>DEM_INCOME</th>\n",
       "      <th>DEM_EDU</th>\n",
       "    </tr>\n",
       "  </thead>\n",
       "  <tbody>\n",
       "    <tr>\n",
       "      <th>2</th>\n",
       "      <td>0</td>\n",
       "      <td>24</td>\n",
       "      <td>0</td>\n",
       "      <td>0</td>\n",
       "      <td>0</td>\n",
       "      <td>1</td>\n",
       "      <td>1</td>\n",
       "      <td>7</td>\n",
       "    </tr>\n",
       "    <tr>\n",
       "      <th>4</th>\n",
       "      <td>0</td>\n",
       "      <td>21</td>\n",
       "      <td>1</td>\n",
       "      <td>0</td>\n",
       "      <td>0</td>\n",
       "      <td>1</td>\n",
       "      <td>4</td>\n",
       "      <td>2</td>\n",
       "    </tr>\n",
       "    <tr>\n",
       "      <th>6</th>\n",
       "      <td>0</td>\n",
       "      <td>24</td>\n",
       "      <td>1</td>\n",
       "      <td>1</td>\n",
       "      <td>0</td>\n",
       "      <td>0</td>\n",
       "      <td>4</td>\n",
       "      <td>3</td>\n",
       "    </tr>\n",
       "    <tr>\n",
       "      <th>8</th>\n",
       "      <td>0</td>\n",
       "      <td>22</td>\n",
       "      <td>0</td>\n",
       "      <td>0</td>\n",
       "      <td>0</td>\n",
       "      <td>1</td>\n",
       "      <td>5</td>\n",
       "      <td>4</td>\n",
       "    </tr>\n",
       "    <tr>\n",
       "      <th>10</th>\n",
       "      <td>0</td>\n",
       "      <td>20</td>\n",
       "      <td>0</td>\n",
       "      <td>0</td>\n",
       "      <td>0</td>\n",
       "      <td>1</td>\n",
       "      <td>5</td>\n",
       "      <td>2</td>\n",
       "    </tr>\n",
       "    <tr>\n",
       "      <th>...</th>\n",
       "      <td>...</td>\n",
       "      <td>...</td>\n",
       "      <td>...</td>\n",
       "      <td>...</td>\n",
       "      <td>...</td>\n",
       "      <td>...</td>\n",
       "      <td>...</td>\n",
       "      <td>...</td>\n",
       "    </tr>\n",
       "    <tr>\n",
       "      <th>9994</th>\n",
       "      <td>1</td>\n",
       "      <td>72</td>\n",
       "      <td>0</td>\n",
       "      <td>0</td>\n",
       "      <td>0</td>\n",
       "      <td>0</td>\n",
       "      <td>4</td>\n",
       "      <td>6</td>\n",
       "    </tr>\n",
       "    <tr>\n",
       "      <th>9997</th>\n",
       "      <td>1</td>\n",
       "      <td>67</td>\n",
       "      <td>0</td>\n",
       "      <td>0</td>\n",
       "      <td>0</td>\n",
       "      <td>1</td>\n",
       "      <td>2</td>\n",
       "      <td>2</td>\n",
       "    </tr>\n",
       "    <tr>\n",
       "      <th>10001</th>\n",
       "      <td>1</td>\n",
       "      <td>70</td>\n",
       "      <td>0</td>\n",
       "      <td>0</td>\n",
       "      <td>0</td>\n",
       "      <td>0</td>\n",
       "      <td>3</td>\n",
       "      <td>4</td>\n",
       "    </tr>\n",
       "    <tr>\n",
       "      <th>10004</th>\n",
       "      <td>1</td>\n",
       "      <td>69</td>\n",
       "      <td>0</td>\n",
       "      <td>0</td>\n",
       "      <td>0</td>\n",
       "      <td>0</td>\n",
       "      <td>2</td>\n",
       "      <td>5</td>\n",
       "    </tr>\n",
       "    <tr>\n",
       "      <th>10006</th>\n",
       "      <td>1</td>\n",
       "      <td>71</td>\n",
       "      <td>0</td>\n",
       "      <td>0</td>\n",
       "      <td>0</td>\n",
       "      <td>0</td>\n",
       "      <td>3</td>\n",
       "      <td>4</td>\n",
       "    </tr>\n",
       "  </tbody>\n",
       "</table>\n",
       "<p>6014 rows × 8 columns</p>\n",
       "</div>"
      ],
      "text/plain": [
       "       DEM_GENDER  DEM_AGE  DEM_STDNT  DEM_VET  DEM_HEALTH  DEM_MARITAL  \\\n",
       "2               0       24          0        0           0            1   \n",
       "4               0       21          1        0           0            1   \n",
       "6               0       24          1        1           0            0   \n",
       "8               0       22          0        0           0            1   \n",
       "10              0       20          0        0           0            1   \n",
       "...           ...      ...        ...      ...         ...          ...   \n",
       "9994            1       72          0        0           0            0   \n",
       "9997            1       67          0        0           0            1   \n",
       "10001           1       70          0        0           0            0   \n",
       "10004           1       69          0        0           0            0   \n",
       "10006           1       71          0        0           0            0   \n",
       "\n",
       "       DEM_INCOME  DEM_EDU  \n",
       "2               1        7  \n",
       "4               4        2  \n",
       "6               4        3  \n",
       "8               5        4  \n",
       "10              5        2  \n",
       "...           ...      ...  \n",
       "9994            4        6  \n",
       "9997            2        2  \n",
       "10001           3        4  \n",
       "10004           2        5  \n",
       "10006           3        4  \n",
       "\n",
       "[6014 rows x 8 columns]"
      ]
     },
     "execution_count": 63,
     "metadata": {},
     "output_type": "execute_result"
    }
   ],
   "source": [
    "person"
   ]
  },
  {
   "cell_type": "code",
   "execution_count": 64,
   "id": "promotional-slovenia",
   "metadata": {},
   "outputs": [
    {
     "ename": "KeyError",
     "evalue": "'DEM_REGION'",
     "output_type": "error",
     "traceback": [
      "\u001b[0;31m---------------------------------------------------------------------------\u001b[0m",
      "\u001b[0;31mKeyError\u001b[0m                                  Traceback (most recent call last)",
      "\u001b[0;32m~/opt/anaconda3/lib/python3.8/site-packages/pandas/core/indexes/base.py\u001b[0m in \u001b[0;36mget_loc\u001b[0;34m(self, key, method, tolerance)\u001b[0m\n\u001b[1;32m   3079\u001b[0m             \u001b[0;32mtry\u001b[0m\u001b[0;34m:\u001b[0m\u001b[0;34m\u001b[0m\u001b[0;34m\u001b[0m\u001b[0m\n\u001b[0;32m-> 3080\u001b[0;31m                 \u001b[0;32mreturn\u001b[0m \u001b[0mself\u001b[0m\u001b[0;34m.\u001b[0m\u001b[0m_engine\u001b[0m\u001b[0;34m.\u001b[0m\u001b[0mget_loc\u001b[0m\u001b[0;34m(\u001b[0m\u001b[0mcasted_key\u001b[0m\u001b[0;34m)\u001b[0m\u001b[0;34m\u001b[0m\u001b[0;34m\u001b[0m\u001b[0m\n\u001b[0m\u001b[1;32m   3081\u001b[0m             \u001b[0;32mexcept\u001b[0m \u001b[0mKeyError\u001b[0m \u001b[0;32mas\u001b[0m \u001b[0merr\u001b[0m\u001b[0;34m:\u001b[0m\u001b[0;34m\u001b[0m\u001b[0;34m\u001b[0m\u001b[0m\n",
      "\u001b[0;32mpandas/_libs/index.pyx\u001b[0m in \u001b[0;36mpandas._libs.index.IndexEngine.get_loc\u001b[0;34m()\u001b[0m\n",
      "\u001b[0;32mpandas/_libs/index.pyx\u001b[0m in \u001b[0;36mpandas._libs.index.IndexEngine.get_loc\u001b[0;34m()\u001b[0m\n",
      "\u001b[0;32mpandas/_libs/hashtable_class_helper.pxi\u001b[0m in \u001b[0;36mpandas._libs.hashtable.PyObjectHashTable.get_item\u001b[0;34m()\u001b[0m\n",
      "\u001b[0;32mpandas/_libs/hashtable_class_helper.pxi\u001b[0m in \u001b[0;36mpandas._libs.hashtable.PyObjectHashTable.get_item\u001b[0;34m()\u001b[0m\n",
      "\u001b[0;31mKeyError\u001b[0m: 'DEM_REGION'",
      "\nThe above exception was the direct cause of the following exception:\n",
      "\u001b[0;31mKeyError\u001b[0m                                  Traceback (most recent call last)",
      "\u001b[0;32m<ipython-input-64-bf28bb7205ad>\u001b[0m in \u001b[0;36m<module>\u001b[0;34m\u001b[0m\n\u001b[1;32m      1\u001b[0m \u001b[0;32mfrom\u001b[0m \u001b[0msklearn\u001b[0m\u001b[0;34m.\u001b[0m\u001b[0mpreprocessing\u001b[0m \u001b[0;32mimport\u001b[0m \u001b[0mOneHotEncoder\u001b[0m\u001b[0;34m\u001b[0m\u001b[0;34m\u001b[0m\u001b[0m\n\u001b[1;32m      2\u001b[0m \u001b[0mohe\u001b[0m \u001b[0;34m=\u001b[0m \u001b[0mOneHotEncoder\u001b[0m\u001b[0;34m(\u001b[0m\u001b[0;34m)\u001b[0m\u001b[0;34m\u001b[0m\u001b[0;34m\u001b[0m\u001b[0m\n\u001b[0;32m----> 3\u001b[0;31m \u001b[0mencoded\u001b[0m \u001b[0;34m=\u001b[0m \u001b[0mohe\u001b[0m\u001b[0;34m.\u001b[0m\u001b[0mfit_transform\u001b[0m\u001b[0;34m(\u001b[0m\u001b[0mnp\u001b[0m\u001b[0;34m.\u001b[0m\u001b[0marray\u001b[0m\u001b[0;34m(\u001b[0m\u001b[0mperson\u001b[0m\u001b[0;34m[\u001b[0m\u001b[0;34m'DEM_REGION'\u001b[0m\u001b[0;34m]\u001b[0m\u001b[0;34m)\u001b[0m\u001b[0;34m.\u001b[0m\u001b[0mreshape\u001b[0m\u001b[0;34m(\u001b[0m\u001b[0;34m-\u001b[0m\u001b[0;36m1\u001b[0m\u001b[0;34m,\u001b[0m \u001b[0;36m1\u001b[0m\u001b[0;34m)\u001b[0m\u001b[0;34m)\u001b[0m\u001b[0;34m.\u001b[0m\u001b[0mtoarray\u001b[0m\u001b[0;34m(\u001b[0m\u001b[0;34m)\u001b[0m\u001b[0;34m\u001b[0m\u001b[0;34m\u001b[0m\u001b[0m\n\u001b[0m\u001b[1;32m      4\u001b[0m \u001b[0mperson\u001b[0m\u001b[0;34m[\u001b[0m\u001b[0mohe\u001b[0m\u001b[0;34m.\u001b[0m\u001b[0mget_feature_names\u001b[0m\u001b[0;34m(\u001b[0m\u001b[0;34m)\u001b[0m\u001b[0;34m]\u001b[0m \u001b[0;34m=\u001b[0m \u001b[0mencoded\u001b[0m\u001b[0;34m\u001b[0m\u001b[0;34m\u001b[0m\u001b[0m\n",
      "\u001b[0;32m~/opt/anaconda3/lib/python3.8/site-packages/pandas/core/frame.py\u001b[0m in \u001b[0;36m__getitem__\u001b[0;34m(self, key)\u001b[0m\n\u001b[1;32m   3022\u001b[0m             \u001b[0;32mif\u001b[0m \u001b[0mself\u001b[0m\u001b[0;34m.\u001b[0m\u001b[0mcolumns\u001b[0m\u001b[0;34m.\u001b[0m\u001b[0mnlevels\u001b[0m \u001b[0;34m>\u001b[0m \u001b[0;36m1\u001b[0m\u001b[0;34m:\u001b[0m\u001b[0;34m\u001b[0m\u001b[0;34m\u001b[0m\u001b[0m\n\u001b[1;32m   3023\u001b[0m                 \u001b[0;32mreturn\u001b[0m \u001b[0mself\u001b[0m\u001b[0;34m.\u001b[0m\u001b[0m_getitem_multilevel\u001b[0m\u001b[0;34m(\u001b[0m\u001b[0mkey\u001b[0m\u001b[0;34m)\u001b[0m\u001b[0;34m\u001b[0m\u001b[0;34m\u001b[0m\u001b[0m\n\u001b[0;32m-> 3024\u001b[0;31m             \u001b[0mindexer\u001b[0m \u001b[0;34m=\u001b[0m \u001b[0mself\u001b[0m\u001b[0;34m.\u001b[0m\u001b[0mcolumns\u001b[0m\u001b[0;34m.\u001b[0m\u001b[0mget_loc\u001b[0m\u001b[0;34m(\u001b[0m\u001b[0mkey\u001b[0m\u001b[0;34m)\u001b[0m\u001b[0;34m\u001b[0m\u001b[0;34m\u001b[0m\u001b[0m\n\u001b[0m\u001b[1;32m   3025\u001b[0m             \u001b[0;32mif\u001b[0m \u001b[0mis_integer\u001b[0m\u001b[0;34m(\u001b[0m\u001b[0mindexer\u001b[0m\u001b[0;34m)\u001b[0m\u001b[0;34m:\u001b[0m\u001b[0;34m\u001b[0m\u001b[0;34m\u001b[0m\u001b[0m\n\u001b[1;32m   3026\u001b[0m                 \u001b[0mindexer\u001b[0m \u001b[0;34m=\u001b[0m \u001b[0;34m[\u001b[0m\u001b[0mindexer\u001b[0m\u001b[0;34m]\u001b[0m\u001b[0;34m\u001b[0m\u001b[0;34m\u001b[0m\u001b[0m\n",
      "\u001b[0;32m~/opt/anaconda3/lib/python3.8/site-packages/pandas/core/indexes/base.py\u001b[0m in \u001b[0;36mget_loc\u001b[0;34m(self, key, method, tolerance)\u001b[0m\n\u001b[1;32m   3080\u001b[0m                 \u001b[0;32mreturn\u001b[0m \u001b[0mself\u001b[0m\u001b[0;34m.\u001b[0m\u001b[0m_engine\u001b[0m\u001b[0;34m.\u001b[0m\u001b[0mget_loc\u001b[0m\u001b[0;34m(\u001b[0m\u001b[0mcasted_key\u001b[0m\u001b[0;34m)\u001b[0m\u001b[0;34m\u001b[0m\u001b[0;34m\u001b[0m\u001b[0m\n\u001b[1;32m   3081\u001b[0m             \u001b[0;32mexcept\u001b[0m \u001b[0mKeyError\u001b[0m \u001b[0;32mas\u001b[0m \u001b[0merr\u001b[0m\u001b[0;34m:\u001b[0m\u001b[0;34m\u001b[0m\u001b[0;34m\u001b[0m\u001b[0m\n\u001b[0;32m-> 3082\u001b[0;31m                 \u001b[0;32mraise\u001b[0m \u001b[0mKeyError\u001b[0m\u001b[0;34m(\u001b[0m\u001b[0mkey\u001b[0m\u001b[0;34m)\u001b[0m \u001b[0;32mfrom\u001b[0m \u001b[0merr\u001b[0m\u001b[0;34m\u001b[0m\u001b[0;34m\u001b[0m\u001b[0m\n\u001b[0m\u001b[1;32m   3083\u001b[0m \u001b[0;34m\u001b[0m\u001b[0m\n\u001b[1;32m   3084\u001b[0m         \u001b[0;32mif\u001b[0m \u001b[0mtolerance\u001b[0m \u001b[0;32mis\u001b[0m \u001b[0;32mnot\u001b[0m \u001b[0;32mNone\u001b[0m\u001b[0;34m:\u001b[0m\u001b[0;34m\u001b[0m\u001b[0;34m\u001b[0m\u001b[0m\n",
      "\u001b[0;31mKeyError\u001b[0m: 'DEM_REGION'"
     ]
    }
   ],
   "source": [
    "from sklearn.preprocessing import OneHotEncoder\n",
    "ohe = OneHotEncoder()\n",
    "encoded = ohe.fit_transform(np.array(person['DEM_REGION']).reshape(-1, 1)).toarray()\n",
    "person[ohe.get_feature_names()] = encoded"
   ]
  },
  {
   "cell_type": "code",
   "execution_count": null,
   "id": "governmental-indicator",
   "metadata": {},
   "outputs": [],
   "source": [
    "person.drop(columns = ['DEM_REGION'], inplace = True)"
   ]
  },
  {
   "cell_type": "code",
   "execution_count": 65,
   "id": "documentary-transaction",
   "metadata": {},
   "outputs": [
    {
     "data": {
      "text/html": [
       "<div>\n",
       "<style scoped>\n",
       "    .dataframe tbody tr th:only-of-type {\n",
       "        vertical-align: middle;\n",
       "    }\n",
       "\n",
       "    .dataframe tbody tr th {\n",
       "        vertical-align: top;\n",
       "    }\n",
       "\n",
       "    .dataframe thead th {\n",
       "        text-align: right;\n",
       "    }\n",
       "</style>\n",
       "<table border=\"1\" class=\"dataframe\">\n",
       "  <thead>\n",
       "    <tr style=\"text-align: right;\">\n",
       "      <th></th>\n",
       "      <th>DEM_GENDER</th>\n",
       "      <th>DEM_AGE</th>\n",
       "      <th>DEM_STDNT</th>\n",
       "      <th>DEM_VET</th>\n",
       "      <th>DEM_HEALTH</th>\n",
       "      <th>DEM_MARITAL</th>\n",
       "      <th>DEM_INCOME</th>\n",
       "      <th>DEM_EDU</th>\n",
       "    </tr>\n",
       "  </thead>\n",
       "  <tbody>\n",
       "    <tr>\n",
       "      <th>2</th>\n",
       "      <td>0</td>\n",
       "      <td>0.120000</td>\n",
       "      <td>0</td>\n",
       "      <td>0</td>\n",
       "      <td>0</td>\n",
       "      <td>1</td>\n",
       "      <td>0.000</td>\n",
       "      <td>1.000000</td>\n",
       "    </tr>\n",
       "    <tr>\n",
       "      <th>4</th>\n",
       "      <td>0</td>\n",
       "      <td>0.080000</td>\n",
       "      <td>1</td>\n",
       "      <td>0</td>\n",
       "      <td>0</td>\n",
       "      <td>1</td>\n",
       "      <td>0.375</td>\n",
       "      <td>0.166667</td>\n",
       "    </tr>\n",
       "    <tr>\n",
       "      <th>6</th>\n",
       "      <td>0</td>\n",
       "      <td>0.120000</td>\n",
       "      <td>1</td>\n",
       "      <td>1</td>\n",
       "      <td>0</td>\n",
       "      <td>0</td>\n",
       "      <td>0.375</td>\n",
       "      <td>0.333333</td>\n",
       "    </tr>\n",
       "    <tr>\n",
       "      <th>8</th>\n",
       "      <td>0</td>\n",
       "      <td>0.093333</td>\n",
       "      <td>0</td>\n",
       "      <td>0</td>\n",
       "      <td>0</td>\n",
       "      <td>1</td>\n",
       "      <td>0.500</td>\n",
       "      <td>0.500000</td>\n",
       "    </tr>\n",
       "    <tr>\n",
       "      <th>10</th>\n",
       "      <td>0</td>\n",
       "      <td>0.066667</td>\n",
       "      <td>0</td>\n",
       "      <td>0</td>\n",
       "      <td>0</td>\n",
       "      <td>1</td>\n",
       "      <td>0.500</td>\n",
       "      <td>0.166667</td>\n",
       "    </tr>\n",
       "    <tr>\n",
       "      <th>...</th>\n",
       "      <td>...</td>\n",
       "      <td>...</td>\n",
       "      <td>...</td>\n",
       "      <td>...</td>\n",
       "      <td>...</td>\n",
       "      <td>...</td>\n",
       "      <td>...</td>\n",
       "      <td>...</td>\n",
       "    </tr>\n",
       "    <tr>\n",
       "      <th>9994</th>\n",
       "      <td>1</td>\n",
       "      <td>0.760000</td>\n",
       "      <td>0</td>\n",
       "      <td>0</td>\n",
       "      <td>0</td>\n",
       "      <td>0</td>\n",
       "      <td>0.375</td>\n",
       "      <td>0.833333</td>\n",
       "    </tr>\n",
       "    <tr>\n",
       "      <th>9997</th>\n",
       "      <td>1</td>\n",
       "      <td>0.693333</td>\n",
       "      <td>0</td>\n",
       "      <td>0</td>\n",
       "      <td>0</td>\n",
       "      <td>1</td>\n",
       "      <td>0.125</td>\n",
       "      <td>0.166667</td>\n",
       "    </tr>\n",
       "    <tr>\n",
       "      <th>10001</th>\n",
       "      <td>1</td>\n",
       "      <td>0.733333</td>\n",
       "      <td>0</td>\n",
       "      <td>0</td>\n",
       "      <td>0</td>\n",
       "      <td>0</td>\n",
       "      <td>0.250</td>\n",
       "      <td>0.500000</td>\n",
       "    </tr>\n",
       "    <tr>\n",
       "      <th>10004</th>\n",
       "      <td>1</td>\n",
       "      <td>0.720000</td>\n",
       "      <td>0</td>\n",
       "      <td>0</td>\n",
       "      <td>0</td>\n",
       "      <td>0</td>\n",
       "      <td>0.125</td>\n",
       "      <td>0.666667</td>\n",
       "    </tr>\n",
       "    <tr>\n",
       "      <th>10006</th>\n",
       "      <td>1</td>\n",
       "      <td>0.746667</td>\n",
       "      <td>0</td>\n",
       "      <td>0</td>\n",
       "      <td>0</td>\n",
       "      <td>0</td>\n",
       "      <td>0.250</td>\n",
       "      <td>0.500000</td>\n",
       "    </tr>\n",
       "  </tbody>\n",
       "</table>\n",
       "<p>6014 rows × 8 columns</p>\n",
       "</div>"
      ],
      "text/plain": [
       "       DEM_GENDER   DEM_AGE  DEM_STDNT  DEM_VET  DEM_HEALTH  DEM_MARITAL  \\\n",
       "2               0  0.120000          0        0           0            1   \n",
       "4               0  0.080000          1        0           0            1   \n",
       "6               0  0.120000          1        1           0            0   \n",
       "8               0  0.093333          0        0           0            1   \n",
       "10              0  0.066667          0        0           0            1   \n",
       "...           ...       ...        ...      ...         ...          ...   \n",
       "9994            1  0.760000          0        0           0            0   \n",
       "9997            1  0.693333          0        0           0            1   \n",
       "10001           1  0.733333          0        0           0            0   \n",
       "10004           1  0.720000          0        0           0            0   \n",
       "10006           1  0.746667          0        0           0            0   \n",
       "\n",
       "       DEM_INCOME   DEM_EDU  \n",
       "2           0.000  1.000000  \n",
       "4           0.375  0.166667  \n",
       "6           0.375  0.333333  \n",
       "8           0.500  0.500000  \n",
       "10          0.500  0.166667  \n",
       "...           ...       ...  \n",
       "9994        0.375  0.833333  \n",
       "9997        0.125  0.166667  \n",
       "10001       0.250  0.500000  \n",
       "10004       0.125  0.666667  \n",
       "10006       0.250  0.500000  \n",
       "\n",
       "[6014 rows x 8 columns]"
      ]
     },
     "execution_count": 65,
     "metadata": {},
     "output_type": "execute_result"
    }
   ],
   "source": [
    "from sklearn.preprocessing import MinMaxScaler\n",
    "mms = MinMaxScaler()\n",
    "columns_to_scale = ['DEM_AGE', 'DEM_EDU', 'DEM_INCOME']\n",
    "person[columns_to_scale] = mms.fit_transform(person[columns_to_scale])\n",
    "person"
   ]
  },
  {
   "cell_type": "code",
   "execution_count": 66,
   "id": "developed-relief",
   "metadata": {},
   "outputs": [
    {
     "data": {
      "image/png": "[encoded data removed]",
      "text/plain": [
       "<Figure size 432x288 with 1 Axes>"
      ]
     },
     "metadata": {
      "needs_background": "light"
     },
     "output_type": "display_data"
    }
   ],
   "source": [
    "from sklearn.cluster import KMeans\n",
    "from sklearn import metrics\n",
    "from scipy.spatial.distance import cdist\n",
    "import numpy as np\n",
    "import matplotlib.pyplot as plt\n",
    "\n",
    "distortions = []\n",
    "inertias = []\n",
    "mapping1 = {}\n",
    "mapping2 = {}\n",
    "K = range(1, 10)\n",
    " \n",
    "for k in K:\n",
    "    # Building and fitting the model\n",
    "    kmeanModel = KMeans(n_clusters=k).fit(person)\n",
    "    kmeanModel.fit(person)\n",
    " \n",
    "    distortions.append(sum(np.min(cdist(person, kmeanModel.cluster_centers_,\n",
    "                                        'euclidean'), axis=1)) / person.shape[0])\n",
    "    inertias.append(kmeanModel.inertia_)\n",
    " \n",
    "    mapping1[k] = sum(np.min(cdist(person, kmeanModel.cluster_centers_,\n",
    "                                   'euclidean'), axis=1)) / person.shape[0]\n",
    "    mapping2[k] = kmeanModel.inertia_\n",
    "\n",
    "\n",
    "plt.plot(K, distortions, 'bx-')\n",
    "plt.xlabel('Values of K')\n",
    "plt.ylabel('Distortion')\n",
    "plt.title('The Elbow Method using Distortion')\n",
    "plt.show()"
   ]
  },
  {
   "cell_type": "code",
   "execution_count": 67,
   "id": "modified-intensity",
   "metadata": {},
   "outputs": [
    {
     "data": {
      "image/png": "[encoded data removed]",
      "text/plain": [
       "<Figure size 432x288 with 1 Axes>"
      ]
     },
     "metadata": {
      "needs_background": "light"
     },
     "output_type": "display_data"
    }
   ],
   "source": [
    "plt.plot(K, inertias, 'bx-')\n",
    "plt.xlabel('Values of K')\n",
    "plt.ylabel('Inertia')\n",
    "plt.title('The Elbow Method using Inertia')\n",
    "plt.show()"
   ]
  },
  {
   "cell_type": "code",
   "execution_count": 72,
   "id": "animal-fence",
   "metadata": {},
   "outputs": [],
   "source": [
    "from sklearn.cluster import KMeans\n",
    "model = KMeans(n_clusters = 4, random_state = 2)\n",
    "model.fit(person)\n",
    "cluster_summary = person.copy()\n",
    "cluster_summary['cluster'] =  model.labels_"
   ]
  },
  {
   "cell_type": "code",
   "execution_count": 73,
   "id": "solar-buyer",
   "metadata": {},
   "outputs": [
    {
     "data": {
      "text/html": [
       "<div>\n",
       "<style scoped>\n",
       "    .dataframe tbody tr th:only-of-type {\n",
       "        vertical-align: middle;\n",
       "    }\n",
       "\n",
       "    .dataframe tbody tr th {\n",
       "        vertical-align: top;\n",
       "    }\n",
       "\n",
       "    .dataframe thead th {\n",
       "        text-align: right;\n",
       "    }\n",
       "</style>\n",
       "<table border=\"1\" class=\"dataframe\">\n",
       "  <thead>\n",
       "    <tr style=\"text-align: right;\">\n",
       "      <th></th>\n",
       "      <th>DEM_GENDER</th>\n",
       "      <th>DEM_AGE</th>\n",
       "      <th>DEM_STDNT</th>\n",
       "      <th>DEM_VET</th>\n",
       "      <th>DEM_HEALTH</th>\n",
       "      <th>DEM_MARITAL</th>\n",
       "      <th>DEM_INCOME</th>\n",
       "      <th>DEM_EDU</th>\n",
       "    </tr>\n",
       "    <tr>\n",
       "      <th>cluster</th>\n",
       "      <th></th>\n",
       "      <th></th>\n",
       "      <th></th>\n",
       "      <th></th>\n",
       "      <th></th>\n",
       "      <th></th>\n",
       "      <th></th>\n",
       "      <th></th>\n",
       "    </tr>\n",
       "  </thead>\n",
       "  <tbody>\n",
       "    <tr>\n",
       "      <th>0</th>\n",
       "      <td>0.0</td>\n",
       "      <td>0.332105</td>\n",
       "      <td>0.205374</td>\n",
       "      <td>0.038388</td>\n",
       "      <td>0.024952</td>\n",
       "      <td>1.0</td>\n",
       "      <td>0.243522</td>\n",
       "      <td>0.456974</td>\n",
       "    </tr>\n",
       "    <tr>\n",
       "      <th>1</th>\n",
       "      <td>0.0</td>\n",
       "      <td>0.545407</td>\n",
       "      <td>0.041060</td>\n",
       "      <td>0.093598</td>\n",
       "      <td>0.026932</td>\n",
       "      <td>0.0</td>\n",
       "      <td>0.480519</td>\n",
       "      <td>0.552833</td>\n",
       "    </tr>\n",
       "    <tr>\n",
       "      <th>2</th>\n",
       "      <td>1.0</td>\n",
       "      <td>0.497288</td>\n",
       "      <td>0.041788</td>\n",
       "      <td>0.009286</td>\n",
       "      <td>0.060360</td>\n",
       "      <td>0.0</td>\n",
       "      <td>0.446169</td>\n",
       "      <td>0.510060</td>\n",
       "    </tr>\n",
       "    <tr>\n",
       "      <th>3</th>\n",
       "      <td>1.0</td>\n",
       "      <td>0.304905</td>\n",
       "      <td>0.208333</td>\n",
       "      <td>0.009146</td>\n",
       "      <td>0.066057</td>\n",
       "      <td>1.0</td>\n",
       "      <td>0.239583</td>\n",
       "      <td>0.488991</td>\n",
       "    </tr>\n",
       "  </tbody>\n",
       "</table>\n",
       "</div>"
      ],
      "text/plain": [
       "         DEM_GENDER   DEM_AGE  DEM_STDNT   DEM_VET  DEM_HEALTH  DEM_MARITAL  \\\n",
       "cluster                                                                       \n",
       "0               0.0  0.332105   0.205374  0.038388    0.024952          1.0   \n",
       "1               0.0  0.545407   0.041060  0.093598    0.026932          0.0   \n",
       "2               1.0  0.497288   0.041788  0.009286    0.060360          0.0   \n",
       "3               1.0  0.304905   0.208333  0.009146    0.066057          1.0   \n",
       "\n",
       "         DEM_INCOME   DEM_EDU  \n",
       "cluster                        \n",
       "0          0.243522  0.456974  \n",
       "1          0.480519  0.552833  \n",
       "2          0.446169  0.510060  \n",
       "3          0.239583  0.488991  "
      ]
     },
     "execution_count": 73,
     "metadata": {},
     "output_type": "execute_result"
    }
   ],
   "source": [
    "cluster_summary = cluster_summary.groupby('cluster').mean()\n",
    "cluster_summary"
   ]
  },
  {
   "cell_type": "code",
   "execution_count": 74,
   "id": "demonstrated-holiday",
   "metadata": {},
   "outputs": [
    {
     "data": {
      "image/png": "[encoded data removed]",
      "text/plain": [
       "<Figure size 432x288 with 2 Axes>"
      ]
     },
     "metadata": {
      "needs_background": "light"
     },
     "output_type": "display_data"
    }
   ],
   "source": [
    "import matplotlib.pyplot as plt\n",
    "import seaborn as sns\n",
    "from sklearn.preprocessing import MinMaxScaler\n",
    "sns.heatmap(cluster_summary.T,annot=True,cmap=\"YlGnBu\",vmin= 0 ,vmax= 1)\n",
    "plt.ylabel('Scaled Score')\n",
    "plt.xlabel('Cluster Group')\n",
    "plt.title('Summary of each cluster (Scaled Score Between 0 and 1)')\n",
    "plt.show()"
   ]
  },
  {
   "cell_type": "code",
   "execution_count": 81,
   "id": "absent-envelope",
   "metadata": {},
   "outputs": [],
   "source": [
    "full_df = ca.loc[person.index]"
   ]
  },
  {
   "cell_type": "code",
   "execution_count": 83,
   "id": "surface-review",
   "metadata": {},
   "outputs": [],
   "source": [
    "drug_df = full_df[non_medical_drugs_use + non_medical_drugs_use_recent + drug_use]"
   ]
  },
  {
   "cell_type": "code",
   "execution_count": 85,
   "id": "local-procurement",
   "metadata": {},
   "outputs": [
    {
     "name": "stderr",
     "output_type": "stream",
     "text": [
      "<ipython-input-85-d953af3cc1bd>:1: SettingWithCopyWarning: \n",
      "A value is trying to be set on a copy of a slice from a DataFrame.\n",
      "Try using .loc[row_indexer,col_indexer] = value instead\n",
      "\n",
      "See the caveats in the documentation: https://pandas.pydata.org/pandas-docs/stable/user_guide/indexing.html#returning-a-view-versus-a-copy\n",
      "  drug_df['cluster'] = model.labels_\n"
     ]
    }
   ],
   "source": [
    "drug_df['cluster'] = model.labels_"
   ]
  },
  {
   "cell_type": "code",
   "execution_count": 91,
   "id": "informal-multiple",
   "metadata": {},
   "outputs": [
    {
     "name": "stderr",
     "output_type": "stream",
     "text": [
      "<ipython-input-91-6ed675b8ac8d>:2: SettingWithCopyWarning: \n",
      "A value is trying to be set on a copy of a slice from a DataFrame.\n",
      "Try using .loc[row_indexer,col_indexer] = value instead\n",
      "\n",
      "See the caveats in the documentation: https://pandas.pydata.org/pandas-docs/stable/user_guide/indexing.html#returning-a-view-versus-a-copy\n",
      "  drug_df['cluster'] = drug_df['cluster'].apply(lambda x: groups[x])\n"
     ]
    }
   ],
   "source": [
    "groups = {0 : 'Young Males', 1 : ' Older Males', 2 : 'Older Females', 3 : 'Younger Females'}\n",
    "drug_df['cluster'] = drug_df['cluster'].apply(lambda x: groups[x])"
   ]
  },
  {
   "cell_type": "code",
   "execution_count": 93,
   "id": "fancy-southwest",
   "metadata": {},
   "outputs": [
    {
     "data": {
      "image/png": "[encoded data removed]",
      "text/plain": [
       "<Figure size 1152x576 with 2 Axes>"
      ]
     },
     "metadata": {
      "needs_background": "light"
     },
     "output_type": "display_data"
    }
   ],
   "source": [
    "\n",
    "drug_summary = drug_df.groupby('cluster').mean() * 100\n",
    "plt.figure(figsize = (16,8))\n",
    "sns.heatmap(drug_summary.T,annot=True,cmap=\"YlGnBu\",vmin= 0 ,vmax= 100)\n",
    "plt.ylabel('Scaled Score')\n",
    "plt.xlabel('Cluster Group')\n",
    "plt.title('Percentage Breakdown of Drug Use By Cluster')\n",
    "plt.show()"
   ]
  },
  {
   "cell_type": "code",
   "execution_count": 98,
   "id": "parallel-entertainment",
   "metadata": {},
   "outputs": [],
   "source": [
    "pd.concat([person,drug_df], axis  = 1).to_csv('clustered.csv')"
   ]
  },
  {
   "cell_type": "code",
   "execution_count": null,
   "id": "automated-northern",
   "metadata": {},
   "outputs": [],
   "source": []
  }
 ],
 "metadata": {
  "kernelspec": {
   "display_name": "Python 3",
   "language": "python",
   "name": "python3"
  },
  "language_info": {
   "codemirror_mode": {
    "name": "ipython",
    "version": 3
   },
   "file_extension": ".py",
   "mimetype": "text/x-python",
   "name": "python",
   "nbconvert_exporter": "python",
   "pygments_lexer": "ipython3",
   "version": "3.8.8"
  }
 },
 "nbformat": 4,
 "nbformat_minor": 5
}
